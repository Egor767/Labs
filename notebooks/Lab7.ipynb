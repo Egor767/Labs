{
 "cells": [
  {
   "cell_type": "code",
   "execution_count": 2,
   "id": "533878eb-3321-406f-a92f-bca175f59d00",
   "metadata": {},
   "outputs": [],
   "source": [
    "import pandas as pd\n",
    "from sklearn.model_selection import train_test_split\n",
    "from sklearn.metrics import mean_squared_error, mean_absolute_error\n",
    "from sklearn.metrics import confusion_matrix, classification_report\n",
    "import tensorflow as tf\n",
    "import numpy as np\n",
    "import warnings\n",
    "import sys\n",
    "import math\n",
    "\n",
    "warnings.filterwarnings('ignore')\n",
    "\n",
    "sys.path.append(\"..\")"
   ]
  },
  {
   "cell_type": "code",
   "execution_count": 3,
   "id": "a548e04c-ab61-4a61-90df-ef3930bc76af",
   "metadata": {},
   "outputs": [],
   "source": [
    "data_cl = pd.read_csv(f'../data/csgo_taskv2.csv')\n",
    "data_rg = pd.read_csv(f'../data/trip_duration_taskv2.csv')"
   ]
  },
  {
   "cell_type": "markdown",
   "id": "147bad58-44a0-420c-99cd-c88deeff735e",
   "metadata": {},
   "source": [
    "Data_CL"
   ]
  },
  {
   "cell_type": "code",
   "execution_count": 4,
   "id": "e28b1be1-de70-4be9-83f4-ce62b7bc700d",
   "metadata": {},
   "outputs": [
    {
     "name": "stdout",
     "output_type": "stream",
     "text": [
      "<class 'pandas.core.frame.DataFrame'>\n",
      "RangeIndex: 122410 entries, 0 to 122409\n",
      "Data columns (total 17 columns):\n",
      " #   Column            Non-Null Count   Dtype  \n",
      "---  ------            --------------   -----  \n",
      " 0   Unnamed: 0        122410 non-null  int64  \n",
      " 1   time_left         122410 non-null  float64\n",
      " 2   ct_score          122410 non-null  int64  \n",
      " 3   t_score           122410 non-null  int64  \n",
      " 4   map               122410 non-null  object \n",
      " 5   bomb_planted      122410 non-null  bool   \n",
      " 6   ct_health         122410 non-null  int64  \n",
      " 7   t_health          122410 non-null  int64  \n",
      " 8   ct_armor          122410 non-null  int64  \n",
      " 9   t_armor           122410 non-null  int64  \n",
      " 10  ct_money          122410 non-null  int64  \n",
      " 11  t_money           122410 non-null  int64  \n",
      " 12  ct_helmets        122410 non-null  int64  \n",
      " 13  t_helmets         122410 non-null  int64  \n",
      " 14  ct_defuse_kits    122410 non-null  int64  \n",
      " 15  ct_players_alive  122410 non-null  int64  \n",
      " 16  t_players_alive   122410 non-null  int64  \n",
      "dtypes: bool(1), float64(1), int64(14), object(1)\n",
      "memory usage: 15.1+ MB\n"
     ]
    }
   ],
   "source": [
    "data_cl.info()"
   ]
  },
  {
   "cell_type": "code",
   "execution_count": 5,
   "id": "4d8e4cde-1345-45da-a0a8-3a1b601f95ab",
   "metadata": {},
   "outputs": [],
   "source": [
    "data_cl.loc[data_cl['bomb_planted'] == True, 'bomb_planted'] = 1\n",
    "data_cl.loc[data_cl['bomb_planted'] == False, 'bomb_planted'] = 0"
   ]
  },
  {
   "cell_type": "code",
   "execution_count": 6,
   "id": "da3db568-dc7e-4e55-a92c-5c1063acd388",
   "metadata": {},
   "outputs": [
    {
     "data": {
      "text/html": [
       "<div>\n",
       "<style scoped>\n",
       "    .dataframe tbody tr th:only-of-type {\n",
       "        vertical-align: middle;\n",
       "    }\n",
       "\n",
       "    .dataframe tbody tr th {\n",
       "        vertical-align: top;\n",
       "    }\n",
       "\n",
       "    .dataframe thead th {\n",
       "        text-align: right;\n",
       "    }\n",
       "</style>\n",
       "<table border=\"1\" class=\"dataframe\">\n",
       "  <thead>\n",
       "    <tr style=\"text-align: right;\">\n",
       "      <th></th>\n",
       "      <th>Unnamed: 0</th>\n",
       "      <th>time_left</th>\n",
       "      <th>ct_score</th>\n",
       "      <th>t_score</th>\n",
       "      <th>map</th>\n",
       "      <th>bomb_planted</th>\n",
       "      <th>ct_health</th>\n",
       "      <th>t_health</th>\n",
       "      <th>ct_armor</th>\n",
       "      <th>t_armor</th>\n",
       "      <th>ct_money</th>\n",
       "      <th>t_money</th>\n",
       "      <th>ct_helmets</th>\n",
       "      <th>t_helmets</th>\n",
       "      <th>ct_defuse_kits</th>\n",
       "      <th>ct_players_alive</th>\n",
       "      <th>t_players_alive</th>\n",
       "    </tr>\n",
       "  </thead>\n",
       "  <tbody>\n",
       "    <tr>\n",
       "      <th>0</th>\n",
       "      <td>0</td>\n",
       "      <td>175.00</td>\n",
       "      <td>0</td>\n",
       "      <td>0</td>\n",
       "      <td>de_dust2</td>\n",
       "      <td>0</td>\n",
       "      <td>500</td>\n",
       "      <td>500</td>\n",
       "      <td>0</td>\n",
       "      <td>0</td>\n",
       "      <td>4000</td>\n",
       "      <td>4000</td>\n",
       "      <td>0</td>\n",
       "      <td>0</td>\n",
       "      <td>0</td>\n",
       "      <td>5</td>\n",
       "      <td>5</td>\n",
       "    </tr>\n",
       "    <tr>\n",
       "      <th>1</th>\n",
       "      <td>1</td>\n",
       "      <td>156.03</td>\n",
       "      <td>0</td>\n",
       "      <td>0</td>\n",
       "      <td>de_dust2</td>\n",
       "      <td>0</td>\n",
       "      <td>500</td>\n",
       "      <td>500</td>\n",
       "      <td>400</td>\n",
       "      <td>300</td>\n",
       "      <td>600</td>\n",
       "      <td>650</td>\n",
       "      <td>0</td>\n",
       "      <td>0</td>\n",
       "      <td>1</td>\n",
       "      <td>5</td>\n",
       "      <td>5</td>\n",
       "    </tr>\n",
       "    <tr>\n",
       "      <th>2</th>\n",
       "      <td>2</td>\n",
       "      <td>96.03</td>\n",
       "      <td>0</td>\n",
       "      <td>0</td>\n",
       "      <td>de_dust2</td>\n",
       "      <td>0</td>\n",
       "      <td>391</td>\n",
       "      <td>400</td>\n",
       "      <td>294</td>\n",
       "      <td>200</td>\n",
       "      <td>750</td>\n",
       "      <td>500</td>\n",
       "      <td>0</td>\n",
       "      <td>0</td>\n",
       "      <td>1</td>\n",
       "      <td>4</td>\n",
       "      <td>4</td>\n",
       "    </tr>\n",
       "    <tr>\n",
       "      <th>3</th>\n",
       "      <td>3</td>\n",
       "      <td>76.03</td>\n",
       "      <td>0</td>\n",
       "      <td>0</td>\n",
       "      <td>de_dust2</td>\n",
       "      <td>0</td>\n",
       "      <td>391</td>\n",
       "      <td>400</td>\n",
       "      <td>294</td>\n",
       "      <td>200</td>\n",
       "      <td>750</td>\n",
       "      <td>500</td>\n",
       "      <td>0</td>\n",
       "      <td>0</td>\n",
       "      <td>1</td>\n",
       "      <td>4</td>\n",
       "      <td>4</td>\n",
       "    </tr>\n",
       "    <tr>\n",
       "      <th>4</th>\n",
       "      <td>4</td>\n",
       "      <td>174.97</td>\n",
       "      <td>1</td>\n",
       "      <td>0</td>\n",
       "      <td>de_dust2</td>\n",
       "      <td>0</td>\n",
       "      <td>500</td>\n",
       "      <td>500</td>\n",
       "      <td>192</td>\n",
       "      <td>0</td>\n",
       "      <td>18350</td>\n",
       "      <td>10750</td>\n",
       "      <td>0</td>\n",
       "      <td>0</td>\n",
       "      <td>1</td>\n",
       "      <td>5</td>\n",
       "      <td>5</td>\n",
       "    </tr>\n",
       "    <tr>\n",
       "      <th>5</th>\n",
       "      <td>5</td>\n",
       "      <td>114.97</td>\n",
       "      <td>1</td>\n",
       "      <td>0</td>\n",
       "      <td>de_dust2</td>\n",
       "      <td>0</td>\n",
       "      <td>500</td>\n",
       "      <td>500</td>\n",
       "      <td>500</td>\n",
       "      <td>0</td>\n",
       "      <td>1750</td>\n",
       "      <td>10550</td>\n",
       "      <td>5</td>\n",
       "      <td>0</td>\n",
       "      <td>1</td>\n",
       "      <td>5</td>\n",
       "      <td>5</td>\n",
       "    </tr>\n",
       "    <tr>\n",
       "      <th>6</th>\n",
       "      <td>6</td>\n",
       "      <td>94.97</td>\n",
       "      <td>1</td>\n",
       "      <td>0</td>\n",
       "      <td>de_dust2</td>\n",
       "      <td>0</td>\n",
       "      <td>295</td>\n",
       "      <td>111</td>\n",
       "      <td>296</td>\n",
       "      <td>0</td>\n",
       "      <td>1700</td>\n",
       "      <td>5000</td>\n",
       "      <td>3</td>\n",
       "      <td>0</td>\n",
       "      <td>0</td>\n",
       "      <td>3</td>\n",
       "      <td>2</td>\n",
       "    </tr>\n",
       "    <tr>\n",
       "      <th>7</th>\n",
       "      <td>7</td>\n",
       "      <td>74.97</td>\n",
       "      <td>1</td>\n",
       "      <td>0</td>\n",
       "      <td>de_dust2</td>\n",
       "      <td>0</td>\n",
       "      <td>295</td>\n",
       "      <td>111</td>\n",
       "      <td>296</td>\n",
       "      <td>0</td>\n",
       "      <td>1700</td>\n",
       "      <td>5000</td>\n",
       "      <td>3</td>\n",
       "      <td>0</td>\n",
       "      <td>0</td>\n",
       "      <td>3</td>\n",
       "      <td>2</td>\n",
       "    </tr>\n",
       "    <tr>\n",
       "      <th>8</th>\n",
       "      <td>8</td>\n",
       "      <td>54.97</td>\n",
       "      <td>1</td>\n",
       "      <td>0</td>\n",
       "      <td>de_dust2</td>\n",
       "      <td>0</td>\n",
       "      <td>249</td>\n",
       "      <td>89</td>\n",
       "      <td>269</td>\n",
       "      <td>0</td>\n",
       "      <td>2300</td>\n",
       "      <td>2950</td>\n",
       "      <td>3</td>\n",
       "      <td>0</td>\n",
       "      <td>0</td>\n",
       "      <td>3</td>\n",
       "      <td>1</td>\n",
       "    </tr>\n",
       "    <tr>\n",
       "      <th>9</th>\n",
       "      <td>9</td>\n",
       "      <td>174.97</td>\n",
       "      <td>2</td>\n",
       "      <td>0</td>\n",
       "      <td>de_dust2</td>\n",
       "      <td>0</td>\n",
       "      <td>500</td>\n",
       "      <td>500</td>\n",
       "      <td>196</td>\n",
       "      <td>0</td>\n",
       "      <td>19800</td>\n",
       "      <td>23450</td>\n",
       "      <td>2</td>\n",
       "      <td>0</td>\n",
       "      <td>0</td>\n",
       "      <td>5</td>\n",
       "      <td>5</td>\n",
       "    </tr>\n",
       "  </tbody>\n",
       "</table>\n",
       "</div>"
      ],
      "text/plain": [
       "   Unnamed: 0  time_left  ct_score  t_score       map bomb_planted  ct_health  \\\n",
       "0           0     175.00         0        0  de_dust2            0        500   \n",
       "1           1     156.03         0        0  de_dust2            0        500   \n",
       "2           2      96.03         0        0  de_dust2            0        391   \n",
       "3           3      76.03         0        0  de_dust2            0        391   \n",
       "4           4     174.97         1        0  de_dust2            0        500   \n",
       "5           5     114.97         1        0  de_dust2            0        500   \n",
       "6           6      94.97         1        0  de_dust2            0        295   \n",
       "7           7      74.97         1        0  de_dust2            0        295   \n",
       "8           8      54.97         1        0  de_dust2            0        249   \n",
       "9           9     174.97         2        0  de_dust2            0        500   \n",
       "\n",
       "   t_health  ct_armor  t_armor  ct_money  t_money  ct_helmets  t_helmets  \\\n",
       "0       500         0        0      4000     4000           0          0   \n",
       "1       500       400      300       600      650           0          0   \n",
       "2       400       294      200       750      500           0          0   \n",
       "3       400       294      200       750      500           0          0   \n",
       "4       500       192        0     18350    10750           0          0   \n",
       "5       500       500        0      1750    10550           5          0   \n",
       "6       111       296        0      1700     5000           3          0   \n",
       "7       111       296        0      1700     5000           3          0   \n",
       "8        89       269        0      2300     2950           3          0   \n",
       "9       500       196        0     19800    23450           2          0   \n",
       "\n",
       "   ct_defuse_kits  ct_players_alive  t_players_alive  \n",
       "0               0                 5                5  \n",
       "1               1                 5                5  \n",
       "2               1                 4                4  \n",
       "3               1                 4                4  \n",
       "4               1                 5                5  \n",
       "5               1                 5                5  \n",
       "6               0                 3                2  \n",
       "7               0                 3                2  \n",
       "8               0                 3                1  \n",
       "9               0                 5                5  "
      ]
     },
     "execution_count": 6,
     "metadata": {},
     "output_type": "execute_result"
    }
   ],
   "source": [
    "data_cl.head(10)"
   ]
  },
  {
   "cell_type": "code",
   "execution_count": 7,
   "id": "c068e5d3-f33b-4681-bbf7-0be7cc995dec",
   "metadata": {},
   "outputs": [],
   "source": [
    "data_cl = data_cl.drop(['map'], axis=1)"
   ]
  },
  {
   "cell_type": "code",
   "execution_count": 8,
   "id": "80d719ef-e499-4e8c-a62f-e4b302c88969",
   "metadata": {},
   "outputs": [
    {
     "data": {
      "text/plain": [
       "Unnamed: 0          0\n",
       "time_left           0\n",
       "ct_score            0\n",
       "t_score             0\n",
       "bomb_planted        0\n",
       "ct_health           0\n",
       "t_health            0\n",
       "ct_armor            0\n",
       "t_armor             0\n",
       "ct_money            0\n",
       "t_money             0\n",
       "ct_helmets          0\n",
       "t_helmets           0\n",
       "ct_defuse_kits      0\n",
       "ct_players_alive    0\n",
       "t_players_alive     0\n",
       "dtype: int64"
      ]
     },
     "execution_count": 8,
     "metadata": {},
     "output_type": "execute_result"
    }
   ],
   "source": [
    "data_cl.isna().sum()"
   ]
  },
  {
   "cell_type": "code",
   "execution_count": 9,
   "id": "0b0a7f8e-eb42-4eff-b0b8-3fde5d2d7d32",
   "metadata": {},
   "outputs": [
    {
     "name": "stdout",
     "output_type": "stream",
     "text": [
      "0 13684\n",
      "1 13684\n"
     ]
    }
   ],
   "source": [
    "data_major_true = data_cl[data_cl['bomb_planted'] == 1]\n",
    "data_major_false = data_cl[data_cl['bomb_planted'] == 0]\n",
    "\n",
    "data_major_false_undersampled = data_major_false.sample(len(data_major_true))\n",
    "data_cl = pd.concat([data_major_false_undersampled, data_major_true], axis = 0)\n",
    "\n",
    "y_cl = data_cl['bomb_planted']\n",
    "for unique in y_cl.unique():\n",
    "    print(unique, y_cl.loc[y_cl == unique].count())"
   ]
  },
  {
   "cell_type": "code",
   "execution_count": 10,
   "id": "f9e8c99e-e36e-41fc-9d66-2bf9852db8f3",
   "metadata": {},
   "outputs": [],
   "source": [
    "x_cl = data_cl.drop(['bomb_planted'], axis=1)"
   ]
  },
  {
   "cell_type": "code",
   "execution_count": 11,
   "id": "4b4edf22-3706-4246-b203-016c03bdac0a",
   "metadata": {},
   "outputs": [],
   "source": [
    "x_train_cl, x_test_cl, y_train_cl, y_test_cl = train_test_split(x_cl, y_cl, test_size=0.3)"
   ]
  },
  {
   "cell_type": "markdown",
   "id": "f09a19fc-3b82-4c8c-82fd-6bddd0ce94b0",
   "metadata": {},
   "source": [
    "Data_RG"
   ]
  },
  {
   "cell_type": "code",
   "execution_count": 12,
   "id": "f6564905-aada-4a16-8a82-ee2d43c6b73b",
   "metadata": {},
   "outputs": [
    {
     "name": "stdout",
     "output_type": "stream",
     "text": [
      "<class 'pandas.core.frame.DataFrame'>\n",
      "RangeIndex: 729322 entries, 0 to 729321\n",
      "Data columns (total 11 columns):\n",
      " #   Column             Non-Null Count   Dtype  \n",
      "---  ------             --------------   -----  \n",
      " 0   Unnamed: 0         729322 non-null  int64  \n",
      " 1   id                 729322 non-null  object \n",
      " 2   vendor_id          729322 non-null  int64  \n",
      " 3   passenger_count    729322 non-null  int64  \n",
      " 4   pickup_longitude   729322 non-null  float64\n",
      " 5   pickup_latitude    727475 non-null  float64\n",
      " 6   dropoff_longitude  729322 non-null  float64\n",
      " 7   dropoff_latitude   729322 non-null  float64\n",
      " 8   trip_duration      729322 non-null  int64  \n",
      " 9   pickup_datetime    729322 non-null  object \n",
      " 10  dropoff_datetime   729322 non-null  object \n",
      "dtypes: float64(4), int64(4), object(3)\n",
      "memory usage: 61.2+ MB\n"
     ]
    }
   ],
   "source": [
    "data_rg.info()"
   ]
  },
  {
   "cell_type": "code",
   "execution_count": 13,
   "id": "fa899ee4-7964-47fa-bbb9-6cbecabce394",
   "metadata": {},
   "outputs": [
    {
     "data": {
      "text/plain": [
       "Unnamed: 0              0\n",
       "id                      0\n",
       "vendor_id               0\n",
       "passenger_count         0\n",
       "pickup_longitude        0\n",
       "pickup_latitude      1847\n",
       "dropoff_longitude       0\n",
       "dropoff_latitude        0\n",
       "trip_duration           0\n",
       "pickup_datetime         0\n",
       "dropoff_datetime        0\n",
       "dtype: int64"
      ]
     },
     "execution_count": 13,
     "metadata": {},
     "output_type": "execute_result"
    }
   ],
   "source": [
    "data_rg.isna().sum()"
   ]
  },
  {
   "cell_type": "code",
   "execution_count": 14,
   "id": "c3962b64-b74f-4f22-9d94-30ddd246a45b",
   "metadata": {},
   "outputs": [
    {
     "data": {
      "text/plain": [
       "Unnamed: 0           0\n",
       "id                   0\n",
       "vendor_id            0\n",
       "passenger_count      0\n",
       "pickup_longitude     0\n",
       "pickup_latitude      0\n",
       "dropoff_longitude    0\n",
       "dropoff_latitude     0\n",
       "trip_duration        0\n",
       "pickup_datetime      0\n",
       "dropoff_datetime     0\n",
       "dtype: int64"
      ]
     },
     "execution_count": 14,
     "metadata": {},
     "output_type": "execute_result"
    }
   ],
   "source": [
    "mean_r = -0.0008561123804995453\n",
    "for i in range(len(data_rg['pickup_latitude'])):\n",
    "    if math.isnan(data_rg['pickup_latitude'].loc[data_rg.index[i]]):\n",
    "        data_rg['pickup_latitude'].loc[data_rg.index[i]] = data_rg['dropoff_latitude'].loc[data_rg.index[i]] + mean_r\n",
    "data_rg.isna().sum()"
   ]
  },
  {
   "cell_type": "code",
   "execution_count": 15,
   "id": "4cbe807c-4aa2-48b0-b15f-ee71334d5363",
   "metadata": {},
   "outputs": [],
   "source": [
    "data_rg = data_rg.drop(['id'], axis=1)\n",
    "data_rg = data_rg.drop(['pickup_datetime'], axis=1)\n",
    "data_rg = data_rg.drop(['dropoff_datetime'], axis=1)"
   ]
  },
  {
   "cell_type": "code",
   "execution_count": 16,
   "id": "b396e685-ca0e-4eba-b3bd-e28287443a49",
   "metadata": {},
   "outputs": [],
   "source": [
    "y_rg = data_rg['trip_duration']\n",
    "x_rg = data_rg.drop(['trip_duration'], axis=1)"
   ]
  },
  {
   "cell_type": "code",
   "execution_count": 17,
   "id": "085a9ebe-ae29-47ae-b69c-a17d519cafb9",
   "metadata": {},
   "outputs": [],
   "source": [
    "x_rg = x_rg[:10000]\n",
    "y_rg = y_rg[:10000]"
   ]
  },
  {
   "cell_type": "code",
   "execution_count": 18,
   "id": "e3158fed-ba62-4b6a-9e10-d384fa2bf555",
   "metadata": {},
   "outputs": [],
   "source": [
    "x_train_rg, x_test_rg, y_train_rg, y_test_rg = train_test_split(x_rg, y_rg, test_size=0.3)"
   ]
  },
  {
   "cell_type": "code",
   "execution_count": 19,
   "id": "a998d1c4-20bf-4bec-8fa5-07d64eafe37e",
   "metadata": {},
   "outputs": [
    {
     "name": "stdout",
     "output_type": "stream",
     "text": [
      "Model: \"sequential\"\n",
      "_________________________________________________________________\n",
      " Layer (type)                Output Shape              Param #   \n",
      "=================================================================\n",
      " dense (Dense)               (None, 64)                512       \n",
      "                                                                 \n",
      " dense_1 (Dense)             (None, 32)                2080      \n",
      "                                                                 \n",
      " dropout (Dropout)           (None, 32)                0         \n",
      "                                                                 \n",
      " dense_2 (Dense)             (None, 16)                528       \n",
      "                                                                 \n",
      " dropout_1 (Dropout)         (None, 16)                0         \n",
      "                                                                 \n",
      " dense_3 (Dense)             (None, 1)                 17        \n",
      "                                                                 \n",
      "=================================================================\n",
      "Total params: 3137 (12.25 KB)\n",
      "Trainable params: 3137 (12.25 KB)\n",
      "Non-trainable params: 0 (0.00 Byte)\n",
      "_________________________________________________________________\n"
     ]
    }
   ],
   "source": [
    "# Regression\n",
    "model_regression = tf.keras.Sequential(\n",
    "    [\n",
    "        tf.keras.layers.Dense(64, activation=\"relu\", input_shape=(7,)),\n",
    "        tf.keras.layers.Dense(32, activation=\"linear\"),\n",
    "        tf.keras.layers.Dropout(0.1),\n",
    "        tf.keras.layers.Dense(16, activation=\"relu\"),\n",
    "        tf.keras.layers.Dropout(0.1),\n",
    "        tf.keras.layers.Dense(1, activation=\"linear\"),\n",
    "    ]\n",
    ")\n",
    "model_regression.summary()"
   ]
  },
  {
   "cell_type": "code",
   "execution_count": 20,
   "id": "269f7a59-8d02-4c4b-92e6-80648c8c3145",
   "metadata": {},
   "outputs": [],
   "source": [
    "# compile\n",
    "model_regression.compile(optimizer=tf.keras.optimizers.Adam(learning_rate=0.005), loss=\"mse\")"
   ]
  },
  {
   "cell_type": "code",
   "execution_count": 21,
   "id": "cf8387b3-49e4-48ee-bceb-2bdbae8b529c",
   "metadata": {},
   "outputs": [
    {
     "name": "stdout",
     "output_type": "stream",
     "text": [
      "Epoch 1/100\n",
      "219/219 [==============================] - 1s 2ms/step - loss: 8288633.5000\n",
      "Epoch 2/100\n",
      "219/219 [==============================] - 0s 2ms/step - loss: 8226929.0000\n",
      "Epoch 3/100\n",
      "219/219 [==============================] - 0s 2ms/step - loss: 8193835.0000\n",
      "Epoch 4/100\n",
      "219/219 [==============================] - 0s 2ms/step - loss: 8168189.0000\n",
      "Epoch 5/100\n",
      "219/219 [==============================] - 0s 2ms/step - loss: 8179915.0000\n",
      "Epoch 6/100\n",
      "219/219 [==============================] - 0s 2ms/step - loss: 8142957.0000\n",
      "Epoch 7/100\n",
      "219/219 [==============================] - 0s 2ms/step - loss: 8158745.0000\n",
      "Epoch 8/100\n",
      "219/219 [==============================] - 0s 2ms/step - loss: 8167668.0000\n",
      "Epoch 9/100\n",
      "219/219 [==============================] - 0s 2ms/step - loss: 8149027.5000\n",
      "Epoch 10/100\n",
      "219/219 [==============================] - 0s 2ms/step - loss: 8165517.5000\n",
      "Epoch 11/100\n",
      "219/219 [==============================] - 0s 2ms/step - loss: 8162797.5000\n",
      "Epoch 12/100\n",
      "219/219 [==============================] - 0s 2ms/step - loss: 8160793.5000\n",
      "Epoch 13/100\n",
      "219/219 [==============================] - 0s 2ms/step - loss: 8143380.5000\n",
      "Epoch 14/100\n",
      "219/219 [==============================] - 0s 2ms/step - loss: 8145639.5000\n",
      "Epoch 15/100\n",
      "219/219 [==============================] - 0s 2ms/step - loss: 8146741.0000\n",
      "Epoch 16/100\n",
      "219/219 [==============================] - 0s 2ms/step - loss: 8135118.5000\n",
      "Epoch 17/100\n",
      "219/219 [==============================] - 0s 2ms/step - loss: 8120335.0000\n",
      "Epoch 18/100\n",
      "219/219 [==============================] - 0s 2ms/step - loss: 8144905.5000\n",
      "Epoch 19/100\n",
      "219/219 [==============================] - 0s 2ms/step - loss: 8129815.5000\n",
      "Epoch 20/100\n",
      "219/219 [==============================] - 0s 2ms/step - loss: 8176302.0000\n",
      "Epoch 21/100\n",
      "219/219 [==============================] - 0s 2ms/step - loss: 8138827.5000\n",
      "Epoch 22/100\n",
      "219/219 [==============================] - 0s 2ms/step - loss: 8144769.0000\n",
      "Epoch 23/100\n",
      "219/219 [==============================] - 0s 2ms/step - loss: 8132463.0000\n",
      "Epoch 24/100\n",
      "219/219 [==============================] - 0s 2ms/step - loss: 8151525.5000\n",
      "Epoch 25/100\n",
      "219/219 [==============================] - 0s 2ms/step - loss: 8146168.0000\n",
      "Epoch 26/100\n",
      "219/219 [==============================] - 0s 2ms/step - loss: 8124473.5000\n",
      "Epoch 27/100\n",
      "219/219 [==============================] - 0s 2ms/step - loss: 8145731.0000\n",
      "Epoch 28/100\n",
      "219/219 [==============================] - 0s 2ms/step - loss: 8112169.0000\n",
      "Epoch 29/100\n",
      "219/219 [==============================] - 0s 2ms/step - loss: 8155504.5000\n",
      "Epoch 30/100\n",
      "219/219 [==============================] - 0s 2ms/step - loss: 8150297.0000\n",
      "Epoch 31/100\n",
      "219/219 [==============================] - 0s 2ms/step - loss: 8108388.5000\n",
      "Epoch 32/100\n",
      "219/219 [==============================] - 0s 2ms/step - loss: 8150167.5000\n",
      "Epoch 33/100\n",
      "219/219 [==============================] - 0s 2ms/step - loss: 8138303.0000\n",
      "Epoch 34/100\n",
      "219/219 [==============================] - 0s 2ms/step - loss: 8139587.0000\n",
      "Epoch 35/100\n",
      "219/219 [==============================] - 0s 2ms/step - loss: 8129485.0000\n",
      "Epoch 36/100\n",
      "219/219 [==============================] - 0s 2ms/step - loss: 8106593.5000\n",
      "Epoch 37/100\n",
      "219/219 [==============================] - 0s 2ms/step - loss: 8133307.0000\n",
      "Epoch 38/100\n",
      "219/219 [==============================] - 0s 2ms/step - loss: 8117409.0000\n",
      "Epoch 39/100\n",
      "219/219 [==============================] - 0s 2ms/step - loss: 8138416.0000\n",
      "Epoch 40/100\n",
      "219/219 [==============================] - 0s 2ms/step - loss: 8131420.5000\n",
      "Epoch 41/100\n",
      "219/219 [==============================] - 0s 2ms/step - loss: 8129149.0000\n",
      "Epoch 42/100\n",
      "219/219 [==============================] - 0s 2ms/step - loss: 8128080.0000\n",
      "Epoch 43/100\n",
      "219/219 [==============================] - 0s 2ms/step - loss: 8137972.0000\n",
      "Epoch 44/100\n",
      "219/219 [==============================] - 0s 2ms/step - loss: 8138168.5000\n",
      "Epoch 45/100\n",
      "219/219 [==============================] - 0s 2ms/step - loss: 8137917.0000\n",
      "Epoch 46/100\n",
      "219/219 [==============================] - 0s 2ms/step - loss: 8152068.0000\n",
      "Epoch 47/100\n",
      "219/219 [==============================] - 0s 2ms/step - loss: 8115866.0000\n",
      "Epoch 48/100\n",
      "219/219 [==============================] - 0s 2ms/step - loss: 8121888.0000\n",
      "Epoch 49/100\n",
      "219/219 [==============================] - 0s 2ms/step - loss: 8136356.5000\n",
      "Epoch 50/100\n",
      "219/219 [==============================] - 0s 2ms/step - loss: 8116107.0000\n",
      "Epoch 51/100\n",
      "219/219 [==============================] - 0s 2ms/step - loss: 8111127.5000\n",
      "Epoch 52/100\n",
      "219/219 [==============================] - 0s 2ms/step - loss: 8123064.5000\n",
      "Epoch 53/100\n",
      "219/219 [==============================] - 0s 2ms/step - loss: 8141168.5000\n",
      "Epoch 54/100\n",
      "219/219 [==============================] - 0s 2ms/step - loss: 8112722.5000\n",
      "Epoch 55/100\n",
      "219/219 [==============================] - 0s 2ms/step - loss: 8115190.0000\n",
      "Epoch 56/100\n",
      "219/219 [==============================] - 0s 2ms/step - loss: 8121720.0000\n",
      "Epoch 57/100\n",
      "219/219 [==============================] - 0s 2ms/step - loss: 8134717.0000\n",
      "Epoch 58/100\n",
      "219/219 [==============================] - 0s 2ms/step - loss: 8127319.5000\n",
      "Epoch 59/100\n",
      "219/219 [==============================] - 0s 2ms/step - loss: 8109899.0000\n",
      "Epoch 60/100\n",
      "219/219 [==============================] - 0s 2ms/step - loss: 8112936.5000\n",
      "Epoch 61/100\n",
      "219/219 [==============================] - 0s 2ms/step - loss: 8110313.0000\n",
      "Epoch 62/100\n",
      "219/219 [==============================] - 0s 2ms/step - loss: 8109468.5000\n",
      "Epoch 63/100\n",
      "219/219 [==============================] - 0s 2ms/step - loss: 8116865.5000\n",
      "Epoch 64/100\n",
      "219/219 [==============================] - 0s 2ms/step - loss: 8108491.5000\n",
      "Epoch 65/100\n",
      "219/219 [==============================] - 0s 2ms/step - loss: 8151479.5000\n",
      "Epoch 66/100\n",
      "219/219 [==============================] - 0s 2ms/step - loss: 8143206.0000\n",
      "Epoch 67/100\n",
      "219/219 [==============================] - 0s 2ms/step - loss: 8114457.5000\n",
      "Epoch 68/100\n",
      "219/219 [==============================] - 0s 2ms/step - loss: 8115571.5000\n",
      "Epoch 69/100\n",
      "219/219 [==============================] - 0s 2ms/step - loss: 8105550.5000\n",
      "Epoch 70/100\n",
      "219/219 [==============================] - 0s 2ms/step - loss: 8108788.5000\n",
      "Epoch 71/100\n",
      "219/219 [==============================] - 0s 2ms/step - loss: 8115794.0000\n",
      "Epoch 72/100\n",
      "219/219 [==============================] - 0s 2ms/step - loss: 8120606.0000\n",
      "Epoch 73/100\n",
      "219/219 [==============================] - 0s 2ms/step - loss: 8104524.5000\n",
      "Epoch 74/100\n",
      "219/219 [==============================] - 0s 2ms/step - loss: 8113526.5000\n",
      "Epoch 75/100\n",
      "219/219 [==============================] - 0s 2ms/step - loss: 8144349.0000\n",
      "Epoch 76/100\n",
      "219/219 [==============================] - 0s 2ms/step - loss: 8104662.0000\n",
      "Epoch 77/100\n",
      "219/219 [==============================] - 0s 2ms/step - loss: 8105238.5000\n",
      "Epoch 78/100\n",
      "219/219 [==============================] - 0s 2ms/step - loss: 8119649.5000\n",
      "Epoch 79/100\n",
      "219/219 [==============================] - 0s 2ms/step - loss: 8122621.0000\n",
      "Epoch 80/100\n",
      "219/219 [==============================] - 0s 2ms/step - loss: 8126766.5000\n",
      "Epoch 81/100\n",
      "219/219 [==============================] - 0s 2ms/step - loss: 8114582.5000\n",
      "Epoch 82/100\n",
      "219/219 [==============================] - 0s 2ms/step - loss: 8121660.5000\n",
      "Epoch 83/100\n",
      "219/219 [==============================] - 0s 2ms/step - loss: 8118362.5000\n",
      "Epoch 84/100\n",
      "219/219 [==============================] - 0s 2ms/step - loss: 8128110.5000\n",
      "Epoch 85/100\n",
      "219/219 [==============================] - 0s 2ms/step - loss: 8111916.0000\n",
      "Epoch 86/100\n",
      "219/219 [==============================] - 0s 2ms/step - loss: 8114230.5000\n",
      "Epoch 87/100\n",
      "219/219 [==============================] - 0s 2ms/step - loss: 8093523.5000\n",
      "Epoch 88/100\n",
      "219/219 [==============================] - 0s 2ms/step - loss: 8128355.0000\n",
      "Epoch 89/100\n",
      "219/219 [==============================] - 0s 2ms/step - loss: 8110588.5000\n",
      "Epoch 90/100\n",
      "219/219 [==============================] - 0s 2ms/step - loss: 8121437.0000\n",
      "Epoch 91/100\n",
      "219/219 [==============================] - 0s 2ms/step - loss: 8117406.0000\n",
      "Epoch 92/100\n",
      "219/219 [==============================] - 0s 2ms/step - loss: 8114033.0000\n",
      "Epoch 93/100\n",
      "219/219 [==============================] - 0s 2ms/step - loss: 8127613.0000\n",
      "Epoch 94/100\n",
      "219/219 [==============================] - 0s 2ms/step - loss: 8116698.5000\n",
      "Epoch 95/100\n",
      "219/219 [==============================] - 0s 2ms/step - loss: 8115733.5000\n",
      "Epoch 96/100\n",
      "219/219 [==============================] - 0s 2ms/step - loss: 8108617.0000\n",
      "Epoch 97/100\n",
      "219/219 [==============================] - 0s 2ms/step - loss: 8124786.5000\n",
      "Epoch 98/100\n",
      "219/219 [==============================] - 0s 2ms/step - loss: 8118817.5000\n",
      "Epoch 99/100\n",
      "219/219 [==============================] - 0s 2ms/step - loss: 8115651.5000\n",
      "Epoch 100/100\n",
      "219/219 [==============================] - 0s 2ms/step - loss: 8128935.0000\n"
     ]
    },
    {
     "data": {
      "text/plain": [
       "<keras.src.callbacks.History at 0x2499ad882b0>"
      ]
     },
     "execution_count": 21,
     "metadata": {},
     "output_type": "execute_result"
    }
   ],
   "source": [
    "model_regression.fit(x_train_rg, y_train_rg, epochs=100)"
   ]
  },
  {
   "cell_type": "code",
   "execution_count": 22,
   "id": "10a02585-0454-4e27-bfca-206086766272",
   "metadata": {},
   "outputs": [
    {
     "name": "stdout",
     "output_type": "stream",
     "text": [
      "94/94 [==============================] - 0s 1ms/step\n",
      "616.5218331502278\n",
      "94/94 [==============================] - 0s 1ms/step\n",
      "8087912.012202844\n"
     ]
    }
   ],
   "source": [
    "print(mean_absolute_error(y_test_rg, model_regression.predict(x_test_rg)))\n",
    "print(mean_squared_error(y_test_rg, model_regression.predict(x_test_rg)))"
   ]
  },
  {
   "cell_type": "code",
   "execution_count": 23,
   "id": "344b2ea2-0650-47f2-86b5-bdbc75fe10d2",
   "metadata": {},
   "outputs": [],
   "source": [
    "x_train_cl = x_train_cl.astype(np.float64)\n",
    "y_train_cl = y_train_cl.astype(np.float64)"
   ]
  },
  {
   "cell_type": "code",
   "execution_count": 24,
   "id": "0a37c148-5b01-49b3-acc5-d0f78b173991",
   "metadata": {},
   "outputs": [
    {
     "data": {
      "text/plain": [
       "<keras.src.callbacks.History at 0x2499a4c47f0>"
      ]
     },
     "execution_count": 24,
     "metadata": {},
     "output_type": "execute_result"
    }
   ],
   "source": [
    "\n",
    "model_classification_1 = tf.keras.Sequential(\n",
    "    [\n",
    "        tf.keras.layers.Dense(64, activation=\"relu\", input_shape=(15,)),\n",
    "        tf.keras.layers.Dense(128, activation=\"relu\"),\n",
    "        tf.keras.layers.Dropout(0.05),\n",
    "        tf.keras.layers.Dense(64, activation=\"relu\"),\n",
    "        tf.keras.layers.Dense(32, activation=\"relu\"),\n",
    "        tf.keras.layers.Dense(16, activation=\"relu\"),\n",
    "        tf.keras.layers.Dense(1, activation=\"sigmoid\"),\n",
    "    ]\n",
    ")\n",
    "\n",
    "model_classification_1.compile(optimizer=tf.keras.optimizers.Adam(learning_rate=0.001), loss=\"binary_crossentropy\")\n",
    "model_classification_1.fit(x_train_cl, y_train_cl, epochs=100, verbose=None)"
   ]
  },
  {
   "cell_type": "code",
   "execution_count": 25,
   "id": "31f33693-24d9-4a0b-8a1d-e2d25c20fe45",
   "metadata": {},
   "outputs": [
    {
     "name": "stdout",
     "output_type": "stream",
     "text": [
      "              precision    recall  f1-score   support\n",
      "\n",
      "         0.0       1.00      0.84      0.91      4111\n",
      "         1.0       0.86      1.00      0.93      4100\n",
      "\n",
      "    accuracy                           0.92      8211\n",
      "   macro avg       0.93      0.92      0.92      8211\n",
      "weighted avg       0.93      0.92      0.92      8211\n",
      "\n"
     ]
    }
   ],
   "source": [
    "y_pred = np.around(model_classification_1.predict(x_test_cl, verbose=None))\n",
    "print(classification_report(y_test_cl.astype(np.float64), y_pred))"
   ]
  },
  {
   "cell_type": "code",
   "execution_count": 26,
   "id": "9dacafb4-a698-4841-b430-b44bbd5fd16a",
   "metadata": {},
   "outputs": [
    {
     "data": {
      "text/plain": [
       "<keras.src.callbacks.History at 0x24997fba920>"
      ]
     },
     "execution_count": 26,
     "metadata": {},
     "output_type": "execute_result"
    }
   ],
   "source": [
    "# 2\n",
    "model_classification_2 = tf.keras.Sequential(\n",
    "    [\n",
    "        tf.keras.layers.Dense(64, activation=\"relu\", input_dim = x_cl.shape[1]),\n",
    "        tf.keras.layers.Dense(128, activation=\"relu\"),\n",
    "        tf.keras.layers.Dropout(0.1),\n",
    "        tf.keras.layers.Dense(64, activation=\"relu\"),\n",
    "        tf.keras.layers.Dense(32, activation=\"relu\"),\n",
    "        tf.keras.layers.Dense(16, activation=\"relu\"),\n",
    "        tf.keras.layers.Dense(2, activation=\"softmax\"),\n",
    "    ]\n",
    ")\n",
    "\n",
    "model_classification_2.compile(optimizer=tf.keras.optimizers.Adam(learning_rate=0.005), loss=\"sparse_categorical_crossentropy\")\n",
    "model_classification_2.fit(x_train_cl, y_train_cl, epochs=100, verbose=None)"
   ]
  },
  {
   "cell_type": "code",
   "execution_count": 28,
   "id": "8de7c6b2-4943-4ed9-add9-f47ccccfacf7",
   "metadata": {},
   "outputs": [
    {
     "name": "stdout",
     "output_type": "stream",
     "text": [
      "              precision    recall  f1-score   support\n",
      "\n",
      "         0.0       0.00      0.00      0.00      4111\n",
      "         1.0       0.50      1.00      0.67      4100\n",
      "\n",
      "    accuracy                           0.50      8211\n",
      "   macro avg       0.25      0.50      0.33      8211\n",
      "weighted avg       0.25      0.50      0.33      8211\n",
      "\n"
     ]
    }
   ],
   "source": [
    "y_pred = [np.argmax(pred) for pred in model_classification_2.predict(x_test_cl, verbose=None)]\n",
    "print(classification_report(y_test_cl.astype(np.float64), y_pred))"
   ]
  },
  {
   "cell_type": "code",
   "execution_count": null,
   "id": "788826dd-fd03-4462-ab5a-a822b8017434",
   "metadata": {},
   "outputs": [],
   "source": []
  }
 ],
 "metadata": {
  "kernelspec": {
   "display_name": "Python 3 (ipykernel)",
   "language": "python",
   "name": "python3"
  },
  "language_info": {
   "codemirror_mode": {
    "name": "ipython",
    "version": 3
   },
   "file_extension": ".py",
   "mimetype": "text/x-python",
   "name": "python",
   "nbconvert_exporter": "python",
   "pygments_lexer": "ipython3",
   "version": "3.10.11"
  }
 },
 "nbformat": 4,
 "nbformat_minor": 5
}
