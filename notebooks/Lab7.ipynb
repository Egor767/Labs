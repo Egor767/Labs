{
 "cells": [
  {
   "cell_type": "code",
   "execution_count": 1,
   "id": "533878eb-3321-406f-a92f-bca175f59d00",
   "metadata": {},
   "outputs": [],
   "source": [
    "import pandas as pd\n",
    "from sklearn.model_selection import train_test_split\n",
    "from sklearn.metrics import mean_squared_error, mean_absolute_error\n",
    "from sklearn.metrics import confusion_matrix, classification_report\n",
    "import tensorflow as tf\n",
    "import numpy as np\n",
    "import warnings\n",
    "import sys\n",
    "import math\n",
    "\n",
    "warnings.filterwarnings('ignore')\n",
    "\n",
    "sys.path.append(\"..\")"
   ]
  },
  {
   "cell_type": "code",
   "execution_count": 2,
   "id": "a548e04c-ab61-4a61-90df-ef3930bc76af",
   "metadata": {},
   "outputs": [],
   "source": [
    "data_cl = pd.read_csv(f'../data/csgo_taskv2.csv')\n",
    "data_rg = pd.read_csv(f'../data/trip_duration_taskv2.csv')"
   ]
  },
  {
   "cell_type": "markdown",
   "id": "147bad58-44a0-420c-99cd-c88deeff735e",
   "metadata": {},
   "source": [
    "Data_CL"
   ]
  },
  {
   "cell_type": "code",
   "execution_count": 3,
   "id": "e28b1be1-de70-4be9-83f4-ce62b7bc700d",
   "metadata": {},
   "outputs": [
    {
     "name": "stdout",
     "output_type": "stream",
     "text": [
      "<class 'pandas.core.frame.DataFrame'>\n",
      "RangeIndex: 122410 entries, 0 to 122409\n",
      "Data columns (total 17 columns):\n",
      " #   Column            Non-Null Count   Dtype  \n",
      "---  ------            --------------   -----  \n",
      " 0   Unnamed: 0        122410 non-null  int64  \n",
      " 1   time_left         122410 non-null  float64\n",
      " 2   ct_score          122410 non-null  int64  \n",
      " 3   t_score           122410 non-null  int64  \n",
      " 4   map               122410 non-null  object \n",
      " 5   bomb_planted      122410 non-null  bool   \n",
      " 6   ct_health         122410 non-null  int64  \n",
      " 7   t_health          122410 non-null  int64  \n",
      " 8   ct_armor          122410 non-null  int64  \n",
      " 9   t_armor           122410 non-null  int64  \n",
      " 10  ct_money          122410 non-null  int64  \n",
      " 11  t_money           122410 non-null  int64  \n",
      " 12  ct_helmets        122410 non-null  int64  \n",
      " 13  t_helmets         122410 non-null  int64  \n",
      " 14  ct_defuse_kits    122410 non-null  int64  \n",
      " 15  ct_players_alive  122410 non-null  int64  \n",
      " 16  t_players_alive   122410 non-null  int64  \n",
      "dtypes: bool(1), float64(1), int64(14), object(1)\n",
      "memory usage: 15.1+ MB\n"
     ]
    }
   ],
   "source": [
    "data_cl.info()"
   ]
  },
  {
   "cell_type": "code",
   "execution_count": 4,
   "id": "c068e5d3-f33b-4681-bbf7-0be7cc995dec",
   "metadata": {},
   "outputs": [],
   "source": [
    "data_cl = data_cl.drop(['map'], axis=1)"
   ]
  },
  {
   "cell_type": "code",
   "execution_count": 5,
   "id": "80d719ef-e499-4e8c-a62f-e4b302c88969",
   "metadata": {},
   "outputs": [
    {
     "data": {
      "text/plain": [
       "Unnamed: 0          0\n",
       "time_left           0\n",
       "ct_score            0\n",
       "t_score             0\n",
       "bomb_planted        0\n",
       "ct_health           0\n",
       "t_health            0\n",
       "ct_armor            0\n",
       "t_armor             0\n",
       "ct_money            0\n",
       "t_money             0\n",
       "ct_helmets          0\n",
       "t_helmets           0\n",
       "ct_defuse_kits      0\n",
       "ct_players_alive    0\n",
       "t_players_alive     0\n",
       "dtype: int64"
      ]
     },
     "execution_count": 5,
     "metadata": {},
     "output_type": "execute_result"
    }
   ],
   "source": [
    "data_cl.isna().sum()"
   ]
  },
  {
   "cell_type": "code",
   "execution_count": 6,
   "id": "0b0a7f8e-eb42-4eff-b0b8-3fde5d2d7d32",
   "metadata": {},
   "outputs": [
    {
     "name": "stdout",
     "output_type": "stream",
     "text": [
      "False 13684\n",
      "True 13684\n"
     ]
    }
   ],
   "source": [
    "data_major_true = data_cl[data_cl['bomb_planted'] == True]\n",
    "data_major_false = data_cl[data_cl['bomb_planted'] == False]\n",
    "\n",
    "data_major_false_undersampled = data_major_false.sample(len(data_major_true))\n",
    "data_cl = pd.concat([data_major_false_undersampled, data_major_true], axis = 0)\n",
    "\n",
    "y_cl = data_cl['bomb_planted']\n",
    "for unique in y_cl.unique():\n",
    "    print(unique, y_cl.loc[y_cl == unique].count())"
   ]
  },
  {
   "cell_type": "code",
   "execution_count": 7,
   "id": "f9e8c99e-e36e-41fc-9d66-2bf9852db8f3",
   "metadata": {},
   "outputs": [],
   "source": [
    "x_cl = data_cl.drop(['bomb_planted'], axis=1)"
   ]
  },
  {
   "cell_type": "code",
   "execution_count": 8,
   "id": "4b4edf22-3706-4246-b203-016c03bdac0a",
   "metadata": {},
   "outputs": [],
   "source": [
    "x_train_cl, x_test_cl, y_train_cl, y_test_cl = train_test_split(x_cl, y_cl, test_size=0.3)"
   ]
  },
  {
   "cell_type": "markdown",
   "id": "f09a19fc-3b82-4c8c-82fd-6bddd0ce94b0",
   "metadata": {},
   "source": [
    "Data_RG"
   ]
  },
  {
   "cell_type": "code",
   "execution_count": 9,
   "id": "f6564905-aada-4a16-8a82-ee2d43c6b73b",
   "metadata": {},
   "outputs": [
    {
     "name": "stdout",
     "output_type": "stream",
     "text": [
      "<class 'pandas.core.frame.DataFrame'>\n",
      "RangeIndex: 729322 entries, 0 to 729321\n",
      "Data columns (total 11 columns):\n",
      " #   Column             Non-Null Count   Dtype  \n",
      "---  ------             --------------   -----  \n",
      " 0   Unnamed: 0         729322 non-null  int64  \n",
      " 1   id                 729322 non-null  object \n",
      " 2   vendor_id          729322 non-null  int64  \n",
      " 3   passenger_count    729322 non-null  int64  \n",
      " 4   pickup_longitude   729322 non-null  float64\n",
      " 5   pickup_latitude    727475 non-null  float64\n",
      " 6   dropoff_longitude  729322 non-null  float64\n",
      " 7   dropoff_latitude   729322 non-null  float64\n",
      " 8   trip_duration      729322 non-null  int64  \n",
      " 9   pickup_datetime    729322 non-null  object \n",
      " 10  dropoff_datetime   729322 non-null  object \n",
      "dtypes: float64(4), int64(4), object(3)\n",
      "memory usage: 61.2+ MB\n"
     ]
    }
   ],
   "source": [
    "data_rg.info()"
   ]
  },
  {
   "cell_type": "code",
   "execution_count": 10,
   "id": "fa899ee4-7964-47fa-bbb9-6cbecabce394",
   "metadata": {},
   "outputs": [
    {
     "data": {
      "text/plain": [
       "Unnamed: 0              0\n",
       "id                      0\n",
       "vendor_id               0\n",
       "passenger_count         0\n",
       "pickup_longitude        0\n",
       "pickup_latitude      1847\n",
       "dropoff_longitude       0\n",
       "dropoff_latitude        0\n",
       "trip_duration           0\n",
       "pickup_datetime         0\n",
       "dropoff_datetime        0\n",
       "dtype: int64"
      ]
     },
     "execution_count": 10,
     "metadata": {},
     "output_type": "execute_result"
    }
   ],
   "source": [
    "data_rg.isna().sum()"
   ]
  },
  {
   "cell_type": "code",
   "execution_count": 11,
   "id": "c3962b64-b74f-4f22-9d94-30ddd246a45b",
   "metadata": {},
   "outputs": [
    {
     "data": {
      "text/plain": [
       "Unnamed: 0           0\n",
       "id                   0\n",
       "vendor_id            0\n",
       "passenger_count      0\n",
       "pickup_longitude     0\n",
       "pickup_latitude      0\n",
       "dropoff_longitude    0\n",
       "dropoff_latitude     0\n",
       "trip_duration        0\n",
       "pickup_datetime      0\n",
       "dropoff_datetime     0\n",
       "dtype: int64"
      ]
     },
     "execution_count": 11,
     "metadata": {},
     "output_type": "execute_result"
    }
   ],
   "source": [
    "mean_r = -0.0008561123804995453\n",
    "for i in range(len(data_rg['pickup_latitude'])):\n",
    "    if math.isnan(data_rg['pickup_latitude'].loc[data_rg.index[i]]):\n",
    "        data_rg['pickup_latitude'].loc[data_rg.index[i]] = data_rg['dropoff_latitude'].loc[data_rg.index[i]] + mean_r\n",
    "data_rg.isna().sum()"
   ]
  },
  {
   "cell_type": "code",
   "execution_count": 12,
   "id": "4cbe807c-4aa2-48b0-b15f-ee71334d5363",
   "metadata": {},
   "outputs": [],
   "source": [
    "data_rg = data_rg.drop(['id'], axis=1)\n",
    "data_rg = data_rg.drop(['pickup_datetime'], axis=1)\n",
    "data_rg = data_rg.drop(['dropoff_datetime'], axis=1)"
   ]
  },
  {
   "cell_type": "code",
   "execution_count": 13,
   "id": "b396e685-ca0e-4eba-b3bd-e28287443a49",
   "metadata": {},
   "outputs": [],
   "source": [
    "y_rg = data_rg['trip_duration']\n",
    "x_rg = data_rg.drop(['trip_duration'], axis=1)"
   ]
  },
  {
   "cell_type": "code",
   "execution_count": 14,
   "id": "085a9ebe-ae29-47ae-b69c-a17d519cafb9",
   "metadata": {},
   "outputs": [],
   "source": [
    "x_rg = x_rg[:10000]\n",
    "y_rg = y_rg[:10000]"
   ]
  },
  {
   "cell_type": "code",
   "execution_count": 15,
   "id": "e3158fed-ba62-4b6a-9e10-d384fa2bf555",
   "metadata": {},
   "outputs": [],
   "source": [
    "x_train_rg, x_test_rg, y_train_rg, y_test_rg = train_test_split(x_rg, y_rg, test_size=0.3)"
   ]
  },
  {
   "cell_type": "code",
   "execution_count": 16,
   "id": "a998d1c4-20bf-4bec-8fa5-07d64eafe37e",
   "metadata": {},
   "outputs": [
    {
     "name": "stdout",
     "output_type": "stream",
     "text": [
      "Model: \"sequential\"\n",
      "_________________________________________________________________\n",
      " Layer (type)                Output Shape              Param #   \n",
      "=================================================================\n",
      " dense (Dense)               (None, 64)                512       \n",
      "                                                                 \n",
      " dense_1 (Dense)             (None, 32)                2080      \n",
      "                                                                 \n",
      " dropout (Dropout)           (None, 32)                0         \n",
      "                                                                 \n",
      " dense_2 (Dense)             (None, 16)                528       \n",
      "                                                                 \n",
      " dropout_1 (Dropout)         (None, 16)                0         \n",
      "                                                                 \n",
      " dense_3 (Dense)             (None, 1)                 17        \n",
      "                                                                 \n",
      "=================================================================\n",
      "Total params: 3137 (12.25 KB)\n",
      "Trainable params: 3137 (12.25 KB)\n",
      "Non-trainable params: 0 (0.00 Byte)\n",
      "_________________________________________________________________\n"
     ]
    }
   ],
   "source": [
    "# Regression\n",
    "model_regression = tf.keras.Sequential(\n",
    "    [\n",
    "        tf.keras.layers.Dense(64, activation=\"relu\", input_shape=(7,)),\n",
    "        tf.keras.layers.Dense(32, activation=\"linear\"),\n",
    "        tf.keras.layers.Dropout(0.1),\n",
    "        tf.keras.layers.Dense(16, activation=\"relu\"),\n",
    "        tf.keras.layers.Dropout(0.1),\n",
    "        tf.keras.layers.Dense(1, activation=\"linear\"),\n",
    "    ]\n",
    ")\n",
    "model_regression.summary()"
   ]
  },
  {
   "cell_type": "code",
   "execution_count": 17,
   "id": "269f7a59-8d02-4c4b-92e6-80648c8c3145",
   "metadata": {},
   "outputs": [],
   "source": [
    "# compile\n",
    "model_regression.compile(optimizer=tf.keras.optimizers.Adam(learning_rate=0.005), loss=\"mse\")"
   ]
  },
  {
   "cell_type": "code",
   "execution_count": 18,
   "id": "cf8387b3-49e4-48ee-bceb-2bdbae8b529c",
   "metadata": {},
   "outputs": [
    {
     "name": "stdout",
     "output_type": "stream",
     "text": [
      "Epoch 1/100\n",
      "219/219 [==============================] - 1s 2ms/step - loss: 10097183.0000\n",
      "Epoch 2/100\n",
      "219/219 [==============================] - 0s 2ms/step - loss: 9986186.0000\n",
      "Epoch 3/100\n",
      "219/219 [==============================] - 0s 2ms/step - loss: 9991135.0000\n",
      "Epoch 4/100\n",
      "219/219 [==============================] - 0s 2ms/step - loss: 10025131.0000\n",
      "Epoch 5/100\n",
      "219/219 [==============================] - 0s 2ms/step - loss: 9976720.0000\n",
      "Epoch 6/100\n",
      "219/219 [==============================] - 0s 2ms/step - loss: 9985717.0000\n",
      "Epoch 7/100\n",
      "219/219 [==============================] - 0s 2ms/step - loss: 9967478.0000\n",
      "Epoch 8/100\n",
      "219/219 [==============================] - 0s 2ms/step - loss: 9955071.0000\n",
      "Epoch 9/100\n",
      "219/219 [==============================] - 0s 2ms/step - loss: 9945800.0000\n",
      "Epoch 10/100\n",
      "219/219 [==============================] - 0s 2ms/step - loss: 9937845.0000\n",
      "Epoch 11/100\n",
      "219/219 [==============================] - 0s 2ms/step - loss: 9957703.0000\n",
      "Epoch 12/100\n",
      "219/219 [==============================] - 1s 2ms/step - loss: 9929576.0000\n",
      "Epoch 13/100\n",
      "219/219 [==============================] - 0s 2ms/step - loss: 9953539.0000\n",
      "Epoch 14/100\n",
      "219/219 [==============================] - 0s 2ms/step - loss: 9956072.0000\n",
      "Epoch 15/100\n",
      "219/219 [==============================] - 0s 2ms/step - loss: 9946711.0000\n",
      "Epoch 16/100\n",
      "219/219 [==============================] - 0s 2ms/step - loss: 9919520.0000\n",
      "Epoch 17/100\n",
      "219/219 [==============================] - 0s 2ms/step - loss: 9914249.0000\n",
      "Epoch 18/100\n",
      "219/219 [==============================] - 0s 2ms/step - loss: 9923131.0000\n",
      "Epoch 19/100\n",
      "219/219 [==============================] - 0s 2ms/step - loss: 9930866.0000\n",
      "Epoch 20/100\n",
      "219/219 [==============================] - 0s 2ms/step - loss: 9918223.0000\n",
      "Epoch 21/100\n",
      "219/219 [==============================] - 0s 2ms/step - loss: 9906914.0000\n",
      "Epoch 22/100\n",
      "219/219 [==============================] - 0s 2ms/step - loss: 9923331.0000\n",
      "Epoch 23/100\n",
      "219/219 [==============================] - 0s 2ms/step - loss: 9928142.0000\n",
      "Epoch 24/100\n",
      "219/219 [==============================] - 0s 2ms/step - loss: 9917379.0000\n",
      "Epoch 25/100\n",
      "219/219 [==============================] - 0s 2ms/step - loss: 9902133.0000\n",
      "Epoch 26/100\n",
      "219/219 [==============================] - 1s 2ms/step - loss: 9931122.0000\n",
      "Epoch 27/100\n",
      "219/219 [==============================] - 0s 2ms/step - loss: 9924936.0000\n",
      "Epoch 28/100\n",
      "219/219 [==============================] - 0s 2ms/step - loss: 9929654.0000\n",
      "Epoch 29/100\n",
      "219/219 [==============================] - 0s 2ms/step - loss: 9937378.0000\n",
      "Epoch 30/100\n",
      "219/219 [==============================] - 0s 2ms/step - loss: 9874255.0000\n",
      "Epoch 31/100\n",
      "219/219 [==============================] - 0s 2ms/step - loss: 9933588.0000\n",
      "Epoch 32/100\n",
      "219/219 [==============================] - 0s 2ms/step - loss: 9889405.0000\n",
      "Epoch 33/100\n",
      "219/219 [==============================] - 0s 2ms/step - loss: 9911127.0000\n",
      "Epoch 34/100\n",
      "219/219 [==============================] - 0s 2ms/step - loss: 9905408.0000\n",
      "Epoch 35/100\n",
      "219/219 [==============================] - 0s 2ms/step - loss: 9885307.0000\n",
      "Epoch 36/100\n",
      "219/219 [==============================] - 0s 2ms/step - loss: 9907655.0000\n",
      "Epoch 37/100\n",
      "219/219 [==============================] - 0s 2ms/step - loss: 9917158.0000\n",
      "Epoch 38/100\n",
      "219/219 [==============================] - 0s 2ms/step - loss: 9889838.0000\n",
      "Epoch 39/100\n",
      "219/219 [==============================] - 0s 2ms/step - loss: 9900353.0000\n",
      "Epoch 40/100\n",
      "219/219 [==============================] - 0s 2ms/step - loss: 9887365.0000\n",
      "Epoch 41/100\n",
      "219/219 [==============================] - 0s 2ms/step - loss: 9902868.0000\n",
      "Epoch 42/100\n",
      "219/219 [==============================] - 0s 2ms/step - loss: 9907046.0000\n",
      "Epoch 43/100\n",
      "219/219 [==============================] - 0s 2ms/step - loss: 9864158.0000\n",
      "Epoch 44/100\n",
      "219/219 [==============================] - 0s 2ms/step - loss: 9904058.0000\n",
      "Epoch 45/100\n",
      "219/219 [==============================] - 0s 2ms/step - loss: 9879732.0000\n",
      "Epoch 46/100\n",
      "219/219 [==============================] - 0s 2ms/step - loss: 9883929.0000\n",
      "Epoch 47/100\n",
      "219/219 [==============================] - 0s 2ms/step - loss: 9903050.0000\n",
      "Epoch 48/100\n",
      "219/219 [==============================] - 0s 2ms/step - loss: 9877340.0000\n",
      "Epoch 49/100\n",
      "219/219 [==============================] - 0s 2ms/step - loss: 9901188.0000\n",
      "Epoch 50/100\n",
      "219/219 [==============================] - 0s 2ms/step - loss: 9881744.0000\n",
      "Epoch 51/100\n",
      "219/219 [==============================] - 0s 2ms/step - loss: 9887208.0000\n",
      "Epoch 52/100\n",
      "219/219 [==============================] - 0s 2ms/step - loss: 9885623.0000\n",
      "Epoch 53/100\n",
      "219/219 [==============================] - 0s 2ms/step - loss: 9905302.0000\n",
      "Epoch 54/100\n",
      "219/219 [==============================] - 0s 2ms/step - loss: 9895875.0000\n",
      "Epoch 55/100\n",
      "219/219 [==============================] - 0s 2ms/step - loss: 9924279.0000\n",
      "Epoch 56/100\n",
      "219/219 [==============================] - 0s 2ms/step - loss: 9901656.0000\n",
      "Epoch 57/100\n",
      "219/219 [==============================] - 0s 2ms/step - loss: 9909947.0000\n",
      "Epoch 58/100\n",
      "219/219 [==============================] - 0s 2ms/step - loss: 9880830.0000\n",
      "Epoch 59/100\n",
      "219/219 [==============================] - 0s 2ms/step - loss: 9886395.0000\n",
      "Epoch 60/100\n",
      "219/219 [==============================] - 0s 2ms/step - loss: 9894320.0000\n",
      "Epoch 61/100\n",
      "219/219 [==============================] - 0s 2ms/step - loss: 9905236.0000\n",
      "Epoch 62/100\n",
      "219/219 [==============================] - 0s 2ms/step - loss: 9893799.0000\n",
      "Epoch 63/100\n",
      "219/219 [==============================] - 0s 2ms/step - loss: 9882474.0000\n",
      "Epoch 64/100\n",
      "219/219 [==============================] - 0s 2ms/step - loss: 9909381.0000\n",
      "Epoch 65/100\n",
      "219/219 [==============================] - 0s 2ms/step - loss: 9902459.0000\n",
      "Epoch 66/100\n",
      "219/219 [==============================] - 0s 2ms/step - loss: 9896783.0000\n",
      "Epoch 67/100\n",
      "219/219 [==============================] - 0s 2ms/step - loss: 9912847.0000\n",
      "Epoch 68/100\n",
      "219/219 [==============================] - 0s 2ms/step - loss: 9908705.0000\n",
      "Epoch 69/100\n",
      "219/219 [==============================] - 0s 2ms/step - loss: 9928985.0000\n",
      "Epoch 70/100\n",
      "219/219 [==============================] - 0s 2ms/step - loss: 9914616.0000\n",
      "Epoch 71/100\n",
      "219/219 [==============================] - 0s 2ms/step - loss: 9925937.0000\n",
      "Epoch 72/100\n",
      "219/219 [==============================] - 0s 2ms/step - loss: 9911102.0000\n",
      "Epoch 73/100\n",
      "219/219 [==============================] - 0s 2ms/step - loss: 9915582.0000\n",
      "Epoch 74/100\n",
      "219/219 [==============================] - 0s 2ms/step - loss: 9901274.0000\n",
      "Epoch 75/100\n",
      "219/219 [==============================] - 0s 2ms/step - loss: 9871490.0000\n",
      "Epoch 76/100\n",
      "219/219 [==============================] - 0s 2ms/step - loss: 9894650.0000\n",
      "Epoch 77/100\n",
      "219/219 [==============================] - 0s 2ms/step - loss: 9862517.0000\n",
      "Epoch 78/100\n",
      "219/219 [==============================] - 0s 2ms/step - loss: 9887944.0000\n",
      "Epoch 79/100\n",
      "219/219 [==============================] - 0s 2ms/step - loss: 9908773.0000\n",
      "Epoch 80/100\n",
      "219/219 [==============================] - 0s 2ms/step - loss: 9883833.0000\n",
      "Epoch 81/100\n",
      "219/219 [==============================] - 0s 2ms/step - loss: 9891804.0000\n",
      "Epoch 82/100\n",
      "219/219 [==============================] - 0s 2ms/step - loss: 9891915.0000\n",
      "Epoch 83/100\n",
      "219/219 [==============================] - 0s 2ms/step - loss: 9889230.0000\n",
      "Epoch 84/100\n",
      "219/219 [==============================] - 0s 2ms/step - loss: 9882429.0000\n",
      "Epoch 85/100\n",
      "219/219 [==============================] - 0s 2ms/step - loss: 9915982.0000\n",
      "Epoch 86/100\n",
      "219/219 [==============================] - 0s 2ms/step - loss: 9902773.0000\n",
      "Epoch 87/100\n",
      "219/219 [==============================] - 0s 2ms/step - loss: 9905806.0000\n",
      "Epoch 88/100\n",
      "219/219 [==============================] - 0s 2ms/step - loss: 9923364.0000\n",
      "Epoch 89/100\n",
      "219/219 [==============================] - 0s 2ms/step - loss: 9907063.0000\n",
      "Epoch 90/100\n",
      "219/219 [==============================] - 0s 2ms/step - loss: 9907546.0000\n",
      "Epoch 91/100\n",
      "219/219 [==============================] - 0s 2ms/step - loss: 9876189.0000\n",
      "Epoch 92/100\n",
      "219/219 [==============================] - 0s 2ms/step - loss: 9897730.0000\n",
      "Epoch 93/100\n",
      "219/219 [==============================] - 0s 2ms/step - loss: 9899824.0000\n",
      "Epoch 94/100\n",
      "219/219 [==============================] - 0s 2ms/step - loss: 9904147.0000\n",
      "Epoch 95/100\n",
      "219/219 [==============================] - 0s 2ms/step - loss: 9919845.0000\n",
      "Epoch 96/100\n",
      "219/219 [==============================] - 0s 2ms/step - loss: 9898035.0000\n",
      "Epoch 97/100\n",
      "219/219 [==============================] - 0s 2ms/step - loss: 9901660.0000\n",
      "Epoch 98/100\n",
      "219/219 [==============================] - 0s 2ms/step - loss: 9902018.0000\n",
      "Epoch 99/100\n",
      "219/219 [==============================] - 0s 2ms/step - loss: 9920555.0000\n",
      "Epoch 100/100\n",
      "219/219 [==============================] - 0s 2ms/step - loss: 9905728.0000\n"
     ]
    },
    {
     "data": {
      "text/plain": [
       "<keras.src.callbacks.History at 0x2b99f9af6a0>"
      ]
     },
     "execution_count": 18,
     "metadata": {},
     "output_type": "execute_result"
    }
   ],
   "source": [
    "model_regression.fit(x_train_rg, y_train_rg, epochs=100)"
   ]
  },
  {
   "cell_type": "code",
   "execution_count": 20,
   "id": "10a02585-0454-4e27-bfca-206086766272",
   "metadata": {},
   "outputs": [
    {
     "name": "stdout",
     "output_type": "stream",
     "text": [
      "94/94 [==============================] - 0s 1ms/step\n",
      "491.56150551350913\n",
      "94/94 [==============================] - 0s 1ms/step\n",
      "3900742.8817113885\n"
     ]
    }
   ],
   "source": [
    "print(mean_absolute_error(y_test_rg, model_regression.predict(x_test_rg)))\n",
    "print(mean_squared_error(y_test_rg, model_regression.predict(x_test_rg)))"
   ]
  },
  {
   "cell_type": "code",
   "execution_count": 23,
   "id": "0a37c148-5b01-49b3-acc5-d0f78b173991",
   "metadata": {},
   "outputs": [
    {
     "data": {
      "text/plain": [
       "<keras.src.callbacks.History at 0x2b999a595d0>"
      ]
     },
     "execution_count": 23,
     "metadata": {},
     "output_type": "execute_result"
    }
   ],
   "source": [
    "model_classification_1 = tf.keras.Sequential(\n",
    "    [\n",
    "        tf.keras.layers.Dense(64, activation=\"relu\", input_shape=(15,)),\n",
    "        tf.keras.layers.Dense(128, activation=\"relu\"),\n",
    "        tf.keras.layers.Dropout(0.05),\n",
    "        tf.keras.layers.Dense(64, activation=\"relu\"),\n",
    "        tf.keras.layers.Dense(32, activation=\"relu\"),\n",
    "        tf.keras.layers.Dense(16, activation=\"relu\"),\n",
    "        tf.keras.layers.Dense(1, activation=\"sigmoid\"),\n",
    "    ]\n",
    ")\n",
    "\n",
    "model_classification_1.compile(optimizer=tf.keras.optimizers.Adam(learning_rate=0.001), loss=\"binary_crossentropy\")\n",
    "model_classification_1.fit(x_train_cl, y_train_cl, epochs=100, verbose=None)"
   ]
  },
  {
   "cell_type": "code",
   "execution_count": 24,
   "id": "31f33693-24d9-4a0b-8a1d-e2d25c20fe45",
   "metadata": {},
   "outputs": [
    {
     "name": "stdout",
     "output_type": "stream",
     "text": [
      "              precision    recall  f1-score   support\n",
      "\n",
      "       False       0.97      0.93      0.95      4064\n",
      "        True       0.93      0.97      0.95      4147\n",
      "\n",
      "    accuracy                           0.95      8211\n",
      "   macro avg       0.95      0.95      0.95      8211\n",
      "weighted avg       0.95      0.95      0.95      8211\n",
      "\n",
      "[[3764  300]\n",
      " [ 106 4041]]\n"
     ]
    }
   ],
   "source": [
    "y_pred = np.around(model_classification_1.predict(x_test_cl, verbose=None))\n",
    "\n",
    "print(classification_report(y_test_cl, y_pred))\n",
    "print(confusion_matrix(y_test_cl, y_pred))"
   ]
  },
  {
   "cell_type": "code",
   "execution_count": 26,
   "id": "c4f2be3f-37c6-428e-bb03-ee5cb0ff2432",
   "metadata": {},
   "outputs": [],
   "source": [
    "w0 = 1 / y_train_cl[y_train_cl==0].shape[0]\n",
    "w1 = 1 / y_train_cl[y_train_cl==1].shape[0]"
   ]
  },
  {
   "cell_type": "code",
   "execution_count": 30,
   "id": "3784af60-804a-4dd7-93c8-fe1e353e3504",
   "metadata": {},
   "outputs": [
    {
     "ename": "TypeError",
     "evalue": "Value passed to parameter 'x' has DataType bool not in list of allowed values: bfloat16, float16, float32, float64, int8, int16, int32, int64, complex64, complex128",
     "output_type": "error",
     "traceback": [
      "\u001b[1;31m---------------------------------------------------------------------------\u001b[0m",
      "\u001b[1;31mTypeError\u001b[0m                                 Traceback (most recent call last)",
      "Cell \u001b[1;32mIn[30], line 14\u001b[0m\n\u001b[0;32m      1\u001b[0m model_classification_1 \u001b[38;5;241m=\u001b[39m tf\u001b[38;5;241m.\u001b[39mkeras\u001b[38;5;241m.\u001b[39mSequential(\n\u001b[0;32m      2\u001b[0m     [\n\u001b[0;32m      3\u001b[0m         tf\u001b[38;5;241m.\u001b[39mkeras\u001b[38;5;241m.\u001b[39mlayers\u001b[38;5;241m.\u001b[39mDense(\u001b[38;5;241m64\u001b[39m, activation\u001b[38;5;241m=\u001b[39m\u001b[38;5;124m\"\u001b[39m\u001b[38;5;124mrelu\u001b[39m\u001b[38;5;124m\"\u001b[39m, input_dim \u001b[38;5;241m=\u001b[39m x_cl\u001b[38;5;241m.\u001b[39mshape[\u001b[38;5;241m1\u001b[39m]),\n\u001b[1;32m   (...)\u001b[0m\n\u001b[0;32m     10\u001b[0m     ]\n\u001b[0;32m     11\u001b[0m )\n\u001b[0;32m     13\u001b[0m model_classification_1\u001b[38;5;241m.\u001b[39mcompile(optimizer\u001b[38;5;241m=\u001b[39mtf\u001b[38;5;241m.\u001b[39mkeras\u001b[38;5;241m.\u001b[39moptimizers\u001b[38;5;241m.\u001b[39mAdam(learning_rate\u001b[38;5;241m=\u001b[39m\u001b[38;5;241m0.001\u001b[39m), loss\u001b[38;5;241m=\u001b[39m\u001b[38;5;124m\"\u001b[39m\u001b[38;5;124mbinary_crossentropy\u001b[39m\u001b[38;5;124m\"\u001b[39m)\n\u001b[1;32m---> 14\u001b[0m \u001b[43mmodel_classification_1\u001b[49m\u001b[38;5;241;43m.\u001b[39;49m\u001b[43mfit\u001b[49m\u001b[43m(\u001b[49m\u001b[43mx_train_cl\u001b[49m\u001b[43m,\u001b[49m\u001b[43m \u001b[49m\u001b[43my_train_cl\u001b[49m\u001b[43m,\u001b[49m\u001b[43m \u001b[49m\u001b[43mepochs\u001b[49m\u001b[38;5;241;43m=\u001b[39;49m\u001b[38;5;241;43m50\u001b[39;49m\u001b[43m,\u001b[49m\u001b[43m \u001b[49m\u001b[43mverbose\u001b[49m\u001b[38;5;241;43m=\u001b[39;49m\u001b[38;5;28;43;01mNone\u001b[39;49;00m\u001b[43m,\u001b[49m\u001b[43m \u001b[49m\u001b[43mclass_weight\u001b[49m\u001b[38;5;241;43m=\u001b[39;49m\u001b[43m{\u001b[49m\u001b[38;5;241;43m0\u001b[39;49m\u001b[43m:\u001b[49m\u001b[43m \u001b[49m\u001b[43mw0\u001b[49m\u001b[43m,\u001b[49m\u001b[43m \u001b[49m\u001b[38;5;241;43m1\u001b[39;49m\u001b[43m:\u001b[49m\u001b[43m \u001b[49m\u001b[43mw1\u001b[49m\u001b[43m}\u001b[49m\u001b[43m)\u001b[49m\n\u001b[0;32m     15\u001b[0m model_classification_1\u001b[38;5;241m.\u001b[39mpredict(x_test_cl, verbose\u001b[38;5;241m=\u001b[39m\u001b[38;5;28;01mNone\u001b[39;00m)\n\u001b[0;32m     17\u001b[0m y_pred \u001b[38;5;241m=\u001b[39m np\u001b[38;5;241m.\u001b[39maround(model_classification_1\u001b[38;5;241m.\u001b[39mpredict(x_test_cl, verbose\u001b[38;5;241m=\u001b[39m\u001b[38;5;28;01mNone\u001b[39;00m))\n",
      "File \u001b[1;32m~\\Desktop\\ML\\venv\\lib\\site-packages\\keras\\src\\utils\\traceback_utils.py:70\u001b[0m, in \u001b[0;36mfilter_traceback.<locals>.error_handler\u001b[1;34m(*args, **kwargs)\u001b[0m\n\u001b[0;32m     67\u001b[0m     filtered_tb \u001b[38;5;241m=\u001b[39m _process_traceback_frames(e\u001b[38;5;241m.\u001b[39m__traceback__)\n\u001b[0;32m     68\u001b[0m     \u001b[38;5;66;03m# To get the full stack trace, call:\u001b[39;00m\n\u001b[0;32m     69\u001b[0m     \u001b[38;5;66;03m# `tf.debugging.disable_traceback_filtering()`\u001b[39;00m\n\u001b[1;32m---> 70\u001b[0m     \u001b[38;5;28;01mraise\u001b[39;00m e\u001b[38;5;241m.\u001b[39mwith_traceback(filtered_tb) \u001b[38;5;28;01mfrom\u001b[39;00m \u001b[38;5;28;01mNone\u001b[39;00m\n\u001b[0;32m     71\u001b[0m \u001b[38;5;28;01mfinally\u001b[39;00m:\n\u001b[0;32m     72\u001b[0m     \u001b[38;5;28;01mdel\u001b[39;00m filtered_tb\n",
      "File \u001b[1;32m~\\Desktop\\ML\\venv\\lib\\site-packages\\tensorflow\\python\\framework\\op_def_library.py:57\u001b[0m, in \u001b[0;36m_SatisfiesTypeConstraint\u001b[1;34m(dtype, attr_def, param_name)\u001b[0m\n\u001b[0;32m     55\u001b[0m allowed_values \u001b[38;5;241m=\u001b[39m \u001b[38;5;124m\"\u001b[39m\u001b[38;5;124m, \u001b[39m\u001b[38;5;124m\"\u001b[39m\u001b[38;5;241m.\u001b[39mjoin(dtypes\u001b[38;5;241m.\u001b[39mas_dtype(x)\u001b[38;5;241m.\u001b[39mname \u001b[38;5;28;01mfor\u001b[39;00m x \u001b[38;5;129;01min\u001b[39;00m allowed_list)\n\u001b[0;32m     56\u001b[0m \u001b[38;5;28;01mif\u001b[39;00m dtype \u001b[38;5;129;01mnot\u001b[39;00m \u001b[38;5;129;01min\u001b[39;00m allowed_list:\n\u001b[1;32m---> 57\u001b[0m   \u001b[38;5;28;01mraise\u001b[39;00m \u001b[38;5;167;01mTypeError\u001b[39;00m(\n\u001b[0;32m     58\u001b[0m       \u001b[38;5;124mf\u001b[39m\u001b[38;5;124m\"\u001b[39m\u001b[38;5;124mValue passed to parameter \u001b[39m\u001b[38;5;124m'\u001b[39m\u001b[38;5;132;01m{\u001b[39;00mparam_name\u001b[38;5;132;01m}\u001b[39;00m\u001b[38;5;124m'\u001b[39m\u001b[38;5;124m has DataType \u001b[39m\u001b[38;5;124m\"\u001b[39m\n\u001b[0;32m     59\u001b[0m       \u001b[38;5;124mf\u001b[39m\u001b[38;5;124m\"\u001b[39m\u001b[38;5;132;01m{\u001b[39;00mdtypes\u001b[38;5;241m.\u001b[39mas_dtype(dtype)\u001b[38;5;241m.\u001b[39mname\u001b[38;5;132;01m}\u001b[39;00m\u001b[38;5;124m not in list of allowed values: \u001b[39m\u001b[38;5;124m\"\u001b[39m\n\u001b[0;32m     60\u001b[0m       \u001b[38;5;124mf\u001b[39m\u001b[38;5;124m\"\u001b[39m\u001b[38;5;132;01m{\u001b[39;00mallowed_values\u001b[38;5;132;01m}\u001b[39;00m\u001b[38;5;124m\"\u001b[39m)\n",
      "\u001b[1;31mTypeError\u001b[0m: Value passed to parameter 'x' has DataType bool not in list of allowed values: bfloat16, float16, float32, float64, int8, int16, int32, int64, complex64, complex128"
     ]
    }
   ],
   "source": [
    "model_classification_1 = tf.keras.Sequential(\n",
    "    [\n",
    "        tf.keras.layers.Dense(64, activation=\"relu\", input_dim = x_cl.shape[1]),\n",
    "        tf.keras.layers.Dense(128, activation=\"relu\"),\n",
    "        tf.keras.layers.Dropout(0.05),\n",
    "        tf.keras.layers.Dense(64, activation=\"relu\"),\n",
    "        tf.keras.layers.Dense(32, activation=\"relu\"),\n",
    "        tf.keras.layers.Dense(16, activation=\"relu\"),\n",
    "        tf.keras.layers.Dense(1, activation=\"sigmoid\"),\n",
    "    ]\n",
    ")\n",
    "\n",
    "model_classification_1.compile(optimizer=tf.keras.optimizers.Adam(learning_rate=0.001), loss=\"binary_crossentropy\")\n",
    "model_classification_1.fit(x_train_cl, y_train_cl, epochs=50, verbose=None, class_weight={0: w0, 1: w1})\n",
    "model_classification_1.predict(x_test_cl, verbose=None)\n",
    "\n",
    "y_pred = np.around(model_classification_1.predict(x_test_cl, verbose=None))\n",
    "print(classification_report(y_test_cl, y_pred))\n",
    "print(confusion_matrix(y_test_cl, y_pred))"
   ]
  },
  {
   "cell_type": "code",
   "execution_count": null,
   "id": "eb084697-b1fe-4275-ac4e-abf9ee5e097a",
   "metadata": {},
   "outputs": [],
   "source": [
    "y_pred = np.around(model_classification_1.predict(x_test_c, verbose=None))\n",
    "print(classification_report(y_test_c, y_pred))\n",
    "print(confusion_matrix(y_test_c, y_pred))"
   ]
  },
  {
   "cell_type": "code",
   "execution_count": 31,
   "id": "9dacafb4-a698-4841-b430-b44bbd5fd16a",
   "metadata": {},
   "outputs": [
    {
     "data": {
      "text/plain": [
       "<keras.src.callbacks.History at 0x2b998e10910>"
      ]
     },
     "execution_count": 31,
     "metadata": {},
     "output_type": "execute_result"
    }
   ],
   "source": [
    "# 2\n",
    "model_classification_2 = tf.keras.Sequential(\n",
    "    [\n",
    "        tf.keras.layers.Dense(64, activation=\"relu\", input_dim = x_cl.shape[1]),\n",
    "        tf.keras.layers.Dense(128, activation=\"relu\"),\n",
    "        tf.keras.layers.Dropout(0.1),\n",
    "        tf.keras.layers.Dense(64, activation=\"relu\"),\n",
    "        tf.keras.layers.Dense(32, activation=\"relu\"),\n",
    "        tf.keras.layers.Dense(16, activation=\"relu\"),\n",
    "        tf.keras.layers.Dense(2, activation=\"softmax\"),\n",
    "    ]\n",
    ")\n",
    "\n",
    "model_classification_2.compile(optimizer=tf.keras.optimizers.Adam(learning_rate=0.005), loss=\"sparse_categorical_crossentropy\")\n",
    "model_classification_2.fit(x_train_cl, y_train_cl, epochs=100, verbose=None)"
   ]
  },
  {
   "cell_type": "code",
   "execution_count": 32,
   "id": "8de7c6b2-4943-4ed9-add9-f47ccccfacf7",
   "metadata": {},
   "outputs": [
    {
     "name": "stdout",
     "output_type": "stream",
     "text": [
      "              precision    recall  f1-score   support\n",
      "\n",
      "       False       0.49      1.00      0.66      4064\n",
      "        True       0.00      0.00      0.00      4147\n",
      "\n",
      "    accuracy                           0.49      8211\n",
      "   macro avg       0.25      0.50      0.33      8211\n",
      "weighted avg       0.24      0.49      0.33      8211\n",
      "\n",
      "[[4064    0]\n",
      " [4147    0]]\n"
     ]
    }
   ],
   "source": [
    "y_pred = [np.argmax(pred) for pred in model_classification_2.predict(x_test_cl, verbose=None)]\n",
    "print(classification_report(y_test_cl, y_pred))\n",
    "print(confusion_matrix(y_test_cl, y_pred))"
   ]
  },
  {
   "cell_type": "code",
   "execution_count": null,
   "id": "788826dd-fd03-4462-ab5a-a822b8017434",
   "metadata": {},
   "outputs": [],
   "source": []
  }
 ],
 "metadata": {
  "kernelspec": {
   "display_name": "Python 3 (ipykernel)",
   "language": "python",
   "name": "python3"
  },
  "language_info": {
   "codemirror_mode": {
    "name": "ipython",
    "version": 3
   },
   "file_extension": ".py",
   "mimetype": "text/x-python",
   "name": "python",
   "nbconvert_exporter": "python",
   "pygments_lexer": "ipython3",
   "version": "3.10.11"
  }
 },
 "nbformat": 4,
 "nbformat_minor": 5
}
