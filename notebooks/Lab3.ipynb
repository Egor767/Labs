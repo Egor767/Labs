{
 "cells": [
  {
   "cell_type": "code",
   "execution_count": 1,
   "id": "49eebaeb-0047-4601-8e49-3264bc0cdfa9",
   "metadata": {},
   "outputs": [],
   "source": [
    "import sys\n",
    "import pandas as pd\n",
    "import seaborn as sns\n",
    "import math\n",
    "import statistics\n",
    "import random\n",
    "from math import sqrt\n",
    "from sklearn.model_selection import train_test_split\n",
    "from sklearn.linear_model import LinearRegression, Lasso, Ridge, ElasticNet\n",
    "from sklearn.metrics import mean_squared_error, mean_absolute_error, mean_absolute_percentage_error, r2_score\n",
    "from math import sqrt\n",
    "from sklearn.model_selection import GridSearchCV, RandomizedSearchCV\n",
    "import numpy as np\n",
    "import matplotlib.pyplot as plt\n",
    "from sklearn.preprocessing import StandardScaler\n",
    "from sklearn.preprocessing import PolynomialFeatures\n",
    "from sklearn.pipeline import Pipeline\n",
    "import warnings\n",
    "from sklearn.datasets import load_iris\n",
    "from sklearn.preprocessing import StandardScaler\n",
    "\n",
    "warnings.filterwarnings('ignore')\n",
    "\n",
    "sys.path.append(\"..\")\n",
    "from models.MyMetrics import myMSE, myMAPE, myR2, myRMSE, myMAE"
   ]
  },
  {
   "cell_type": "code",
   "execution_count": 2,
   "id": "a82c3258-32e2-4183-9aee-72149f822d90",
   "metadata": {},
   "outputs": [],
   "source": [
    "data = pd.read_csv(f'../data/trip_duration_task.csv')"
   ]
  },
  {
   "cell_type": "code",
   "execution_count": 3,
   "id": "b02ce505-3295-4dbe-88c6-f364edfd05bf",
   "metadata": {},
   "outputs": [
    {
     "name": "stdout",
     "output_type": "stream",
     "text": [
      "<class 'pandas.core.frame.DataFrame'>\n",
      "RangeIndex: 729322 entries, 0 to 729321\n",
      "Data columns (total 10 columns):\n",
      " #   Column             Non-Null Count   Dtype  \n",
      "---  ------             --------------   -----  \n",
      " 0   id                 729322 non-null  object \n",
      " 1   vendor_id          727135 non-null  float64\n",
      " 2   pickup_datetime    729322 non-null  object \n",
      " 3   dropoff_datetime   729322 non-null  object \n",
      " 4   passenger_count    729322 non-null  int64  \n",
      " 5   pickup_longitude   729322 non-null  float64\n",
      " 6   pickup_latitude    727475 non-null  float64\n",
      " 7   dropoff_longitude  729322 non-null  float64\n",
      " 8   dropoff_latitude   729322 non-null  float64\n",
      " 9   trip_duration      729322 non-null  int64  \n",
      "dtypes: float64(5), int64(2), object(3)\n",
      "memory usage: 55.6+ MB\n"
     ]
    }
   ],
   "source": [
    "data.info()"
   ]
  },
  {
   "cell_type": "code",
   "execution_count": 4,
   "id": "2d33349b-7452-4bf9-9b66-2e6891fe1464",
   "metadata": {},
   "outputs": [
    {
     "data": {
      "text/html": [
       "<div>\n",
       "<style scoped>\n",
       "    .dataframe tbody tr th:only-of-type {\n",
       "        vertical-align: middle;\n",
       "    }\n",
       "\n",
       "    .dataframe tbody tr th {\n",
       "        vertical-align: top;\n",
       "    }\n",
       "\n",
       "    .dataframe thead th {\n",
       "        text-align: right;\n",
       "    }\n",
       "</style>\n",
       "<table border=\"1\" class=\"dataframe\">\n",
       "  <thead>\n",
       "    <tr style=\"text-align: right;\">\n",
       "      <th></th>\n",
       "      <th>id</th>\n",
       "      <th>vendor_id</th>\n",
       "      <th>pickup_datetime</th>\n",
       "      <th>dropoff_datetime</th>\n",
       "      <th>passenger_count</th>\n",
       "      <th>pickup_longitude</th>\n",
       "      <th>pickup_latitude</th>\n",
       "      <th>dropoff_longitude</th>\n",
       "      <th>dropoff_latitude</th>\n",
       "      <th>trip_duration</th>\n",
       "    </tr>\n",
       "  </thead>\n",
       "  <tbody>\n",
       "    <tr>\n",
       "      <th>0</th>\n",
       "      <td>id1080784</td>\n",
       "      <td>2.0</td>\n",
       "      <td>2016-02-29 16:40:21</td>\n",
       "      <td>2016-02-29 16:47:01</td>\n",
       "      <td>1</td>\n",
       "      <td>-73.953918</td>\n",
       "      <td>40.778873</td>\n",
       "      <td>-73.963875</td>\n",
       "      <td>40.771164</td>\n",
       "      <td>400</td>\n",
       "    </tr>\n",
       "    <tr>\n",
       "      <th>1</th>\n",
       "      <td>id0889885</td>\n",
       "      <td>1.0</td>\n",
       "      <td>2016-03-11 23:35:37</td>\n",
       "      <td>2016-03-11 23:53:57</td>\n",
       "      <td>2</td>\n",
       "      <td>-73.988312</td>\n",
       "      <td>40.731743</td>\n",
       "      <td>-73.994751</td>\n",
       "      <td>40.694931</td>\n",
       "      <td>1100</td>\n",
       "    </tr>\n",
       "    <tr>\n",
       "      <th>2</th>\n",
       "      <td>id0857912</td>\n",
       "      <td>2.0</td>\n",
       "      <td>2016-02-21 17:59:33</td>\n",
       "      <td>2016-02-21 18:26:48</td>\n",
       "      <td>2</td>\n",
       "      <td>-73.997314</td>\n",
       "      <td>40.721458</td>\n",
       "      <td>-73.948029</td>\n",
       "      <td>40.774918</td>\n",
       "      <td>1635</td>\n",
       "    </tr>\n",
       "    <tr>\n",
       "      <th>3</th>\n",
       "      <td>id3744273</td>\n",
       "      <td>2.0</td>\n",
       "      <td>2016-01-05 09:44:31</td>\n",
       "      <td>2016-01-05 10:03:32</td>\n",
       "      <td>6</td>\n",
       "      <td>-73.961670</td>\n",
       "      <td>40.759720</td>\n",
       "      <td>-73.956779</td>\n",
       "      <td>40.780628</td>\n",
       "      <td>1141</td>\n",
       "    </tr>\n",
       "    <tr>\n",
       "      <th>4</th>\n",
       "      <td>id0232939</td>\n",
       "      <td>1.0</td>\n",
       "      <td>2016-02-17 06:42:23</td>\n",
       "      <td>2016-02-17 06:56:31</td>\n",
       "      <td>1</td>\n",
       "      <td>-74.017120</td>\n",
       "      <td>40.708469</td>\n",
       "      <td>-73.988182</td>\n",
       "      <td>40.740631</td>\n",
       "      <td>848</td>\n",
       "    </tr>\n",
       "    <tr>\n",
       "      <th>5</th>\n",
       "      <td>id1918069</td>\n",
       "      <td>2.0</td>\n",
       "      <td>2016-02-14 18:31:42</td>\n",
       "      <td>2016-02-14 18:55:57</td>\n",
       "      <td>2</td>\n",
       "      <td>-73.993614</td>\n",
       "      <td>40.751884</td>\n",
       "      <td>-73.995422</td>\n",
       "      <td>40.723862</td>\n",
       "      <td>1455</td>\n",
       "    </tr>\n",
       "    <tr>\n",
       "      <th>6</th>\n",
       "      <td>id2429028</td>\n",
       "      <td>1.0</td>\n",
       "      <td>2016-04-20 20:30:14</td>\n",
       "      <td>2016-04-20 20:36:51</td>\n",
       "      <td>1</td>\n",
       "      <td>-73.965080</td>\n",
       "      <td>40.758915</td>\n",
       "      <td>-73.976807</td>\n",
       "      <td>40.764107</td>\n",
       "      <td>397</td>\n",
       "    </tr>\n",
       "    <tr>\n",
       "      <th>7</th>\n",
       "      <td>id1663798</td>\n",
       "      <td>2.0</td>\n",
       "      <td>2016-06-19 16:48:14</td>\n",
       "      <td>2016-06-19 17:06:35</td>\n",
       "      <td>1</td>\n",
       "      <td>-73.963890</td>\n",
       "      <td>40.765434</td>\n",
       "      <td>-73.872429</td>\n",
       "      <td>40.774200</td>\n",
       "      <td>1101</td>\n",
       "    </tr>\n",
       "    <tr>\n",
       "      <th>8</th>\n",
       "      <td>id2436943</td>\n",
       "      <td>2.0</td>\n",
       "      <td>2016-03-28 19:17:03</td>\n",
       "      <td>2016-03-28 19:48:29</td>\n",
       "      <td>2</td>\n",
       "      <td>-73.872887</td>\n",
       "      <td>40.774281</td>\n",
       "      <td>-73.979019</td>\n",
       "      <td>40.761879</td>\n",
       "      <td>1886</td>\n",
       "    </tr>\n",
       "    <tr>\n",
       "      <th>9</th>\n",
       "      <td>id2933909</td>\n",
       "      <td>1.0</td>\n",
       "      <td>2016-04-10 22:01:41</td>\n",
       "      <td>2016-04-10 22:25:30</td>\n",
       "      <td>1</td>\n",
       "      <td>-73.987823</td>\n",
       "      <td>40.740982</td>\n",
       "      <td>-73.999153</td>\n",
       "      <td>40.686451</td>\n",
       "      <td>1429</td>\n",
       "    </tr>\n",
       "  </tbody>\n",
       "</table>\n",
       "</div>"
      ],
      "text/plain": [
       "          id  vendor_id      pickup_datetime     dropoff_datetime  \\\n",
       "0  id1080784        2.0  2016-02-29 16:40:21  2016-02-29 16:47:01   \n",
       "1  id0889885        1.0  2016-03-11 23:35:37  2016-03-11 23:53:57   \n",
       "2  id0857912        2.0  2016-02-21 17:59:33  2016-02-21 18:26:48   \n",
       "3  id3744273        2.0  2016-01-05 09:44:31  2016-01-05 10:03:32   \n",
       "4  id0232939        1.0  2016-02-17 06:42:23  2016-02-17 06:56:31   \n",
       "5  id1918069        2.0  2016-02-14 18:31:42  2016-02-14 18:55:57   \n",
       "6  id2429028        1.0  2016-04-20 20:30:14  2016-04-20 20:36:51   \n",
       "7  id1663798        2.0  2016-06-19 16:48:14  2016-06-19 17:06:35   \n",
       "8  id2436943        2.0  2016-03-28 19:17:03  2016-03-28 19:48:29   \n",
       "9  id2933909        1.0  2016-04-10 22:01:41  2016-04-10 22:25:30   \n",
       "\n",
       "   passenger_count  pickup_longitude  pickup_latitude  dropoff_longitude  \\\n",
       "0                1        -73.953918        40.778873         -73.963875   \n",
       "1                2        -73.988312        40.731743         -73.994751   \n",
       "2                2        -73.997314        40.721458         -73.948029   \n",
       "3                6        -73.961670        40.759720         -73.956779   \n",
       "4                1        -74.017120        40.708469         -73.988182   \n",
       "5                2        -73.993614        40.751884         -73.995422   \n",
       "6                1        -73.965080        40.758915         -73.976807   \n",
       "7                1        -73.963890        40.765434         -73.872429   \n",
       "8                2        -73.872887        40.774281         -73.979019   \n",
       "9                1        -73.987823        40.740982         -73.999153   \n",
       "\n",
       "   dropoff_latitude  trip_duration  \n",
       "0         40.771164            400  \n",
       "1         40.694931           1100  \n",
       "2         40.774918           1635  \n",
       "3         40.780628           1141  \n",
       "4         40.740631            848  \n",
       "5         40.723862           1455  \n",
       "6         40.764107            397  \n",
       "7         40.774200           1101  \n",
       "8         40.761879           1886  \n",
       "9         40.686451           1429  "
      ]
     },
     "execution_count": 4,
     "metadata": {},
     "output_type": "execute_result"
    }
   ],
   "source": [
    "data.head(10)"
   ]
  },
  {
   "cell_type": "markdown",
   "id": "b39eb0e0-57f9-4a46-b5ea-8674bc835432",
   "metadata": {},
   "source": [
    "## Обработка данных"
   ]
  },
  {
   "cell_type": "code",
   "execution_count": 5,
   "id": "308f9a0f-e4da-4a7d-8cba-b8de2d7e1b60",
   "metadata": {},
   "outputs": [
    {
     "data": {
      "text/plain": [
       "id                      0\n",
       "vendor_id            2187\n",
       "pickup_datetime         0\n",
       "dropoff_datetime        0\n",
       "passenger_count         0\n",
       "pickup_longitude        0\n",
       "pickup_latitude      1847\n",
       "dropoff_longitude       0\n",
       "dropoff_latitude        0\n",
       "trip_duration           0\n",
       "dtype: int64"
      ]
     },
     "execution_count": 5,
     "metadata": {},
     "output_type": "execute_result"
    }
   ],
   "source": [
    "# Проверим пропуски\n",
    "data.isna().sum()"
   ]
  },
  {
   "cell_type": "markdown",
   "id": "54ba6552-4888-4c62-9641-e52aca5856bf",
   "metadata": {},
   "source": [
    "Понадобится обработка"
   ]
  },
  {
   "cell_type": "code",
   "execution_count": 6,
   "id": "9bd69994-49c2-428b-82b7-09093afa8186",
   "metadata": {},
   "outputs": [
    {
     "data": {
      "text/plain": [
       "array([ 2.,  1., nan])"
      ]
     },
     "execution_count": 6,
     "metadata": {},
     "output_type": "execute_result"
    }
   ],
   "source": [
    "# vendor_id\n",
    "data.vendor_id.unique()"
   ]
  },
  {
   "cell_type": "code",
   "execution_count": 7,
   "id": "e75d526f-7395-42d1-a20a-7e441a733128",
   "metadata": {},
   "outputs": [
    {
     "data": {
      "text/plain": [
       "vendor_id\n",
       "2.0    389291\n",
       "1.0    337844\n",
       "Name: count, dtype: int64"
      ]
     },
     "execution_count": 7,
     "metadata": {},
     "output_type": "execute_result"
    }
   ],
   "source": [
    "data['vendor_id'].value_counts()"
   ]
  },
  {
   "cell_type": "code",
   "execution_count": 8,
   "id": "35775525-d7ab-4ee9-bdcb-89470828023c",
   "metadata": {},
   "outputs": [],
   "source": [
    "for i in range(len(data['vendor_id'])):\n",
    "    if math.isnan(data['vendor_id'].loc[data.index[i]]):\n",
    "        data['vendor_id'].loc[data.index[i]] = random.choice([1.0, 2.0])"
   ]
  },
  {
   "cell_type": "code",
   "execution_count": 9,
   "id": "4d7a0a6c-ce8b-4d19-b20b-fdcc2ee7be3f",
   "metadata": {},
   "outputs": [],
   "source": [
    "# pickup_latitude \n",
    "list = []\n",
    "for i in range(len(data['pickup_latitude'])):\n",
    "    list.append(data['pickup_latitude'].loc[data.index[i]] - data['dropoff_latitude'].loc[data.index[i]])"
   ]
  },
  {
   "cell_type": "code",
   "execution_count": 12,
   "id": "da4e8f7a-b934-4060-90fa-d6e08859aff2",
   "metadata": {},
   "outputs": [
    {
     "name": "stdout",
     "output_type": "stream",
     "text": [
      "-0.0008561123804995453\n"
     ]
    }
   ],
   "source": [
    "for i in range(len(list)-1):\n",
    "    if math.isnan(list[i]):\n",
    "        del list[i]\n",
    "        i-=1\n",
    "mean = sum(list)/len(list)\n",
    "print(mean)"
   ]
  },
  {
   "cell_type": "code",
   "execution_count": 13,
   "id": "df19d06d-7b0f-4718-b7a0-c1d298f69c85",
   "metadata": {},
   "outputs": [],
   "source": [
    "for i in range(len(data['pickup_latitude'])):\n",
    "    if math.isnan(data['pickup_latitude'].loc[data.index[i]]):\n",
    "        data['pickup_latitude'].loc[data.index[i]] = data['dropoff_latitude'].loc[data.index[i]] + mean"
   ]
  },
  {
   "cell_type": "code",
   "execution_count": 14,
   "id": "0a2a6736-ee5f-4c34-aed5-1117997d6f08",
   "metadata": {},
   "outputs": [
    {
     "data": {
      "text/plain": [
       "id                   0\n",
       "vendor_id            0\n",
       "pickup_datetime      0\n",
       "dropoff_datetime     0\n",
       "passenger_count      0\n",
       "pickup_longitude     0\n",
       "pickup_latitude      0\n",
       "dropoff_longitude    0\n",
       "dropoff_latitude     0\n",
       "trip_duration        0\n",
       "dtype: int64"
      ]
     },
     "execution_count": 14,
     "metadata": {},
     "output_type": "execute_result"
    }
   ],
   "source": [
    "data.isna().sum()"
   ]
  },
  {
   "cell_type": "code",
   "execution_count": 15,
   "id": "b3d1a2c2-553b-4c9e-8056-d3b8c7f0a445",
   "metadata": {},
   "outputs": [
    {
     "name": "stdout",
     "output_type": "stream",
     "text": [
      "<class 'pandas.core.frame.DataFrame'>\n",
      "RangeIndex: 729322 entries, 0 to 729321\n",
      "Data columns (total 10 columns):\n",
      " #   Column             Non-Null Count   Dtype  \n",
      "---  ------             --------------   -----  \n",
      " 0   id                 729322 non-null  object \n",
      " 1   vendor_id          729322 non-null  float64\n",
      " 2   pickup_datetime    729322 non-null  object \n",
      " 3   dropoff_datetime   729322 non-null  object \n",
      " 4   passenger_count    729322 non-null  int64  \n",
      " 5   pickup_longitude   729322 non-null  float64\n",
      " 6   pickup_latitude    729322 non-null  float64\n",
      " 7   dropoff_longitude  729322 non-null  float64\n",
      " 8   dropoff_latitude   729322 non-null  float64\n",
      " 9   trip_duration      729322 non-null  int64  \n",
      "dtypes: float64(5), int64(2), object(3)\n",
      "memory usage: 55.6+ MB\n"
     ]
    }
   ],
   "source": [
    "data.info()"
   ]
  },
  {
   "cell_type": "code",
   "execution_count": 16,
   "id": "f1350b69-e3db-4753-805c-9a036c06317a",
   "metadata": {},
   "outputs": [],
   "source": [
    "data[['pickup_datetime', '1']] = data['pickup_datetime']. str.split(' ',  expand= True ) \n",
    "data[['dropoff_datetime', '2']] = data['dropoff_datetime']. str.split(' ',  expand= True ) "
   ]
  },
  {
   "cell_type": "code",
   "execution_count": 17,
   "id": "80026ea6-fd66-4bd6-b9a0-8b54270374c1",
   "metadata": {},
   "outputs": [
    {
     "data": {
      "text/html": [
       "<div>\n",
       "<style scoped>\n",
       "    .dataframe tbody tr th:only-of-type {\n",
       "        vertical-align: middle;\n",
       "    }\n",
       "\n",
       "    .dataframe tbody tr th {\n",
       "        vertical-align: top;\n",
       "    }\n",
       "\n",
       "    .dataframe thead th {\n",
       "        text-align: right;\n",
       "    }\n",
       "</style>\n",
       "<table border=\"1\" class=\"dataframe\">\n",
       "  <thead>\n",
       "    <tr style=\"text-align: right;\">\n",
       "      <th></th>\n",
       "      <th>id</th>\n",
       "      <th>vendor_id</th>\n",
       "      <th>pickup_datetime</th>\n",
       "      <th>dropoff_datetime</th>\n",
       "      <th>passenger_count</th>\n",
       "      <th>pickup_longitude</th>\n",
       "      <th>pickup_latitude</th>\n",
       "      <th>dropoff_longitude</th>\n",
       "      <th>dropoff_latitude</th>\n",
       "      <th>trip_duration</th>\n",
       "      <th>1</th>\n",
       "      <th>2</th>\n",
       "    </tr>\n",
       "  </thead>\n",
       "  <tbody>\n",
       "    <tr>\n",
       "      <th>0</th>\n",
       "      <td>id1080784</td>\n",
       "      <td>2.0</td>\n",
       "      <td>2016-02-29</td>\n",
       "      <td>2016-02-29</td>\n",
       "      <td>1</td>\n",
       "      <td>-73.953918</td>\n",
       "      <td>40.778873</td>\n",
       "      <td>-73.963875</td>\n",
       "      <td>40.771164</td>\n",
       "      <td>400</td>\n",
       "      <td>16:40:21</td>\n",
       "      <td>16:47:01</td>\n",
       "    </tr>\n",
       "    <tr>\n",
       "      <th>1</th>\n",
       "      <td>id0889885</td>\n",
       "      <td>1.0</td>\n",
       "      <td>2016-03-11</td>\n",
       "      <td>2016-03-11</td>\n",
       "      <td>2</td>\n",
       "      <td>-73.988312</td>\n",
       "      <td>40.731743</td>\n",
       "      <td>-73.994751</td>\n",
       "      <td>40.694931</td>\n",
       "      <td>1100</td>\n",
       "      <td>23:35:37</td>\n",
       "      <td>23:53:57</td>\n",
       "    </tr>\n",
       "    <tr>\n",
       "      <th>2</th>\n",
       "      <td>id0857912</td>\n",
       "      <td>2.0</td>\n",
       "      <td>2016-02-21</td>\n",
       "      <td>2016-02-21</td>\n",
       "      <td>2</td>\n",
       "      <td>-73.997314</td>\n",
       "      <td>40.721458</td>\n",
       "      <td>-73.948029</td>\n",
       "      <td>40.774918</td>\n",
       "      <td>1635</td>\n",
       "      <td>17:59:33</td>\n",
       "      <td>18:26:48</td>\n",
       "    </tr>\n",
       "    <tr>\n",
       "      <th>3</th>\n",
       "      <td>id3744273</td>\n",
       "      <td>2.0</td>\n",
       "      <td>2016-01-05</td>\n",
       "      <td>2016-01-05</td>\n",
       "      <td>6</td>\n",
       "      <td>-73.961670</td>\n",
       "      <td>40.759720</td>\n",
       "      <td>-73.956779</td>\n",
       "      <td>40.780628</td>\n",
       "      <td>1141</td>\n",
       "      <td>09:44:31</td>\n",
       "      <td>10:03:32</td>\n",
       "    </tr>\n",
       "    <tr>\n",
       "      <th>4</th>\n",
       "      <td>id0232939</td>\n",
       "      <td>1.0</td>\n",
       "      <td>2016-02-17</td>\n",
       "      <td>2016-02-17</td>\n",
       "      <td>1</td>\n",
       "      <td>-74.017120</td>\n",
       "      <td>40.708469</td>\n",
       "      <td>-73.988182</td>\n",
       "      <td>40.740631</td>\n",
       "      <td>848</td>\n",
       "      <td>06:42:23</td>\n",
       "      <td>06:56:31</td>\n",
       "    </tr>\n",
       "    <tr>\n",
       "      <th>5</th>\n",
       "      <td>id1918069</td>\n",
       "      <td>2.0</td>\n",
       "      <td>2016-02-14</td>\n",
       "      <td>2016-02-14</td>\n",
       "      <td>2</td>\n",
       "      <td>-73.993614</td>\n",
       "      <td>40.751884</td>\n",
       "      <td>-73.995422</td>\n",
       "      <td>40.723862</td>\n",
       "      <td>1455</td>\n",
       "      <td>18:31:42</td>\n",
       "      <td>18:55:57</td>\n",
       "    </tr>\n",
       "    <tr>\n",
       "      <th>6</th>\n",
       "      <td>id2429028</td>\n",
       "      <td>1.0</td>\n",
       "      <td>2016-04-20</td>\n",
       "      <td>2016-04-20</td>\n",
       "      <td>1</td>\n",
       "      <td>-73.965080</td>\n",
       "      <td>40.758915</td>\n",
       "      <td>-73.976807</td>\n",
       "      <td>40.764107</td>\n",
       "      <td>397</td>\n",
       "      <td>20:30:14</td>\n",
       "      <td>20:36:51</td>\n",
       "    </tr>\n",
       "    <tr>\n",
       "      <th>7</th>\n",
       "      <td>id1663798</td>\n",
       "      <td>2.0</td>\n",
       "      <td>2016-06-19</td>\n",
       "      <td>2016-06-19</td>\n",
       "      <td>1</td>\n",
       "      <td>-73.963890</td>\n",
       "      <td>40.765434</td>\n",
       "      <td>-73.872429</td>\n",
       "      <td>40.774200</td>\n",
       "      <td>1101</td>\n",
       "      <td>16:48:14</td>\n",
       "      <td>17:06:35</td>\n",
       "    </tr>\n",
       "    <tr>\n",
       "      <th>8</th>\n",
       "      <td>id2436943</td>\n",
       "      <td>2.0</td>\n",
       "      <td>2016-03-28</td>\n",
       "      <td>2016-03-28</td>\n",
       "      <td>2</td>\n",
       "      <td>-73.872887</td>\n",
       "      <td>40.774281</td>\n",
       "      <td>-73.979019</td>\n",
       "      <td>40.761879</td>\n",
       "      <td>1886</td>\n",
       "      <td>19:17:03</td>\n",
       "      <td>19:48:29</td>\n",
       "    </tr>\n",
       "    <tr>\n",
       "      <th>9</th>\n",
       "      <td>id2933909</td>\n",
       "      <td>1.0</td>\n",
       "      <td>2016-04-10</td>\n",
       "      <td>2016-04-10</td>\n",
       "      <td>1</td>\n",
       "      <td>-73.987823</td>\n",
       "      <td>40.740982</td>\n",
       "      <td>-73.999153</td>\n",
       "      <td>40.686451</td>\n",
       "      <td>1429</td>\n",
       "      <td>22:01:41</td>\n",
       "      <td>22:25:30</td>\n",
       "    </tr>\n",
       "  </tbody>\n",
       "</table>\n",
       "</div>"
      ],
      "text/plain": [
       "          id  vendor_id pickup_datetime dropoff_datetime  passenger_count  \\\n",
       "0  id1080784        2.0      2016-02-29       2016-02-29                1   \n",
       "1  id0889885        1.0      2016-03-11       2016-03-11                2   \n",
       "2  id0857912        2.0      2016-02-21       2016-02-21                2   \n",
       "3  id3744273        2.0      2016-01-05       2016-01-05                6   \n",
       "4  id0232939        1.0      2016-02-17       2016-02-17                1   \n",
       "5  id1918069        2.0      2016-02-14       2016-02-14                2   \n",
       "6  id2429028        1.0      2016-04-20       2016-04-20                1   \n",
       "7  id1663798        2.0      2016-06-19       2016-06-19                1   \n",
       "8  id2436943        2.0      2016-03-28       2016-03-28                2   \n",
       "9  id2933909        1.0      2016-04-10       2016-04-10                1   \n",
       "\n",
       "   pickup_longitude  pickup_latitude  dropoff_longitude  dropoff_latitude  \\\n",
       "0        -73.953918        40.778873         -73.963875         40.771164   \n",
       "1        -73.988312        40.731743         -73.994751         40.694931   \n",
       "2        -73.997314        40.721458         -73.948029         40.774918   \n",
       "3        -73.961670        40.759720         -73.956779         40.780628   \n",
       "4        -74.017120        40.708469         -73.988182         40.740631   \n",
       "5        -73.993614        40.751884         -73.995422         40.723862   \n",
       "6        -73.965080        40.758915         -73.976807         40.764107   \n",
       "7        -73.963890        40.765434         -73.872429         40.774200   \n",
       "8        -73.872887        40.774281         -73.979019         40.761879   \n",
       "9        -73.987823        40.740982         -73.999153         40.686451   \n",
       "\n",
       "   trip_duration         1         2  \n",
       "0            400  16:40:21  16:47:01  \n",
       "1           1100  23:35:37  23:53:57  \n",
       "2           1635  17:59:33  18:26:48  \n",
       "3           1141  09:44:31  10:03:32  \n",
       "4            848  06:42:23  06:56:31  \n",
       "5           1455  18:31:42  18:55:57  \n",
       "6            397  20:30:14  20:36:51  \n",
       "7           1101  16:48:14  17:06:35  \n",
       "8           1886  19:17:03  19:48:29  \n",
       "9           1429  22:01:41  22:25:30  "
      ]
     },
     "execution_count": 17,
     "metadata": {},
     "output_type": "execute_result"
    }
   ],
   "source": [
    "data.head(10)"
   ]
  },
  {
   "cell_type": "code",
   "execution_count": 18,
   "id": "2159cbf2-d6b1-49c1-a97e-15efaf5b14a9",
   "metadata": {},
   "outputs": [
    {
     "data": {
      "text/plain": [
       "0         2016-02-29\n",
       "1         2016-03-11\n",
       "2         2016-02-21\n",
       "3         2016-01-05\n",
       "4         2016-02-17\n",
       "             ...    \n",
       "729317    2016-05-21\n",
       "729318    2016-02-22\n",
       "729319    2016-04-15\n",
       "729320    2016-06-19\n",
       "729321    2016-01-01\n",
       "Name: dropoff_datetime, Length: 729322, dtype: object"
      ]
     },
     "execution_count": 18,
     "metadata": {},
     "output_type": "execute_result"
    }
   ],
   "source": [
    "data.pop('pickup_datetime')\n",
    "data.pop('dropoff_datetime')"
   ]
  },
  {
   "cell_type": "code",
   "execution_count": 19,
   "id": "6c8a1ccd-aa03-4a79-9e49-0202a9c7cad8",
   "metadata": {},
   "outputs": [],
   "source": [
    "data = data.rename(columns = {'1' : 'pickup_datetime', '2': 'dropoff_datetime'})"
   ]
  },
  {
   "cell_type": "code",
   "execution_count": 20,
   "id": "f25d78ae-cbfc-47fb-b5af-ceafeb10ccb4",
   "metadata": {},
   "outputs": [],
   "source": [
    "# Поменяем типы столбцов\n",
    "data['vendor_id'] = data['vendor_id'].astype(int)\n",
    "\n",
    "data['pickup_datetime'] = data['pickup_datetime'].astype('datetime64[ns]')\n",
    "data['dropoff_datetime'] = data['dropoff_datetime'].astype('datetime64[ns]')"
   ]
  },
  {
   "cell_type": "code",
   "execution_count": 21,
   "id": "ac811b25-a90e-4579-8ea0-0eafba25da23",
   "metadata": {},
   "outputs": [
    {
     "name": "stdout",
     "output_type": "stream",
     "text": [
      "<class 'pandas.core.frame.DataFrame'>\n",
      "RangeIndex: 729322 entries, 0 to 729321\n",
      "Data columns (total 10 columns):\n",
      " #   Column             Non-Null Count   Dtype         \n",
      "---  ------             --------------   -----         \n",
      " 0   id                 729322 non-null  object        \n",
      " 1   vendor_id          729322 non-null  int32         \n",
      " 2   passenger_count    729322 non-null  int64         \n",
      " 3   pickup_longitude   729322 non-null  float64       \n",
      " 4   pickup_latitude    729322 non-null  float64       \n",
      " 5   dropoff_longitude  729322 non-null  float64       \n",
      " 6   dropoff_latitude   729322 non-null  float64       \n",
      " 7   trip_duration      729322 non-null  int64         \n",
      " 8   pickup_datetime    729322 non-null  datetime64[ns]\n",
      " 9   dropoff_datetime   729322 non-null  datetime64[ns]\n",
      "dtypes: datetime64[ns](2), float64(4), int32(1), int64(2), object(1)\n",
      "memory usage: 52.9+ MB\n"
     ]
    }
   ],
   "source": [
    "data.info()"
   ]
  },
  {
   "cell_type": "markdown",
   "id": "1df82d57-5d89-4176-b571-432d242e1749",
   "metadata": {},
   "source": [
    "## EDA"
   ]
  },
  {
   "cell_type": "code",
   "execution_count": 22,
   "id": "69ed49fa-4438-4100-9e6c-8c7a2c5a784d",
   "metadata": {},
   "outputs": [
    {
     "data": {
      "image/png": "[encoded data removed]",
      "text/plain": [
       "<Figure size 640x480 with 1 Axes>"
      ]
     },
     "metadata": {},
     "output_type": "display_data"
    },
    {
     "data": {
      "image/png": "[encoded data removed]",
      "text/plain": [
       "<Figure size 640x480 with 1 Axes>"
      ]
     },
     "metadata": {},
     "output_type": "display_data"
    },
    {
     "data": {
      "image/png": "[encoded data removed]",
      "text/plain": [
       "<Figure size 640x480 with 1 Axes>"
      ]
     },
     "metadata": {},
     "output_type": "display_data"
    },
    {
     "data": {
      "image/png": "[encoded data removed]",
      "text/plain": [
       "<Figure size 640x480 with 1 Axes>"
      ]
     },
     "metadata": {},
     "output_type": "display_data"
    },
    {
     "data": {
      "image/png": "[encoded data removed]",
      "text/plain": [
       "<Figure size 640x480 with 1 Axes>"
      ]
     },
     "metadata": {},
     "output_type": "display_data"
    },
    {
     "data": {
      "image/png": "[encoded data removed]",
      "text/plain": [
       "<Figure size 640x480 with 1 Axes>"
      ]
     },
     "metadata": {},
     "output_type": "display_data"
    },
    {
     "data": {
      "image/png": "[encoded data removed]",
      "text/plain": [
       "<Figure size 640x480 with 1 Axes>"
      ]
     },
     "metadata": {},
     "output_type": "display_data"
    }
   ],
   "source": [
    "data1 =data\n",
    "data1 = data[['pickup_longitude', 'pickup_latitude', 'dropoff_longitude', 'dropoff_latitude']]\n",
    "data[['pickup_longitude', 'pickup_latitude', 'dropoff_longitude', 'dropoff_latitude']] = (data1-data1.mean())/data1. std()\n",
    "data1 = data\n",
    "\n",
    "data1 = data1.drop(['id'], axis=1)\n",
    "data1 = data1.drop(['pickup_datetime'], axis=1)\n",
    "data1 = data1.drop(['dropoff_datetime'], axis=1)\n",
    "columns = data1.columns.to_list()\n",
    "\n",
    "for column in columns:\n",
    "    data1.hist(column, bins = 10)"
   ]
  },
  {
   "cell_type": "markdown",
   "id": "957cb6c0-e430-4a04-b508-972e7481140c",
   "metadata": {},
   "source": [
    "## Разделение выборок\n",
    "Отделим целевой признак от данных, разделим полученные датасеты на тренировочные и тестовые выборки"
   ]
  },
  {
   "cell_type": "code",
   "execution_count": 23,
   "id": "71480823-9eed-4e78-aed1-7db09f23b870",
   "metadata": {},
   "outputs": [],
   "source": [
    "y = data1['trip_duration']\n",
    "X = data1.drop(['trip_duration'], axis=1)"
   ]
  },
  {
   "cell_type": "code",
   "execution_count": 24,
   "id": "b77efbf5-7913-485f-91ba-9e89ddce2d1f",
   "metadata": {},
   "outputs": [],
   "source": [
    "X_train, X_test, y_train, y_test = train_test_split(X, y, test_size=0.2, shuffle = False)"
   ]
  },
  {
   "cell_type": "code",
   "execution_count": 25,
   "id": "c010cf76-a7bb-47ef-92b8-7336c2b46275",
   "metadata": {},
   "outputs": [
    {
     "data": {
      "text/plain": [
       "((583457, 6), (583457,), (145865, 6), (145865,))"
      ]
     },
     "execution_count": 25,
     "metadata": {},
     "output_type": "execute_result"
    }
   ],
   "source": [
    "X_train.shape, y_train.shape, X_test.shape, y_test.shape"
   ]
  },
  {
   "cell_type": "markdown",
   "id": "34972bc4-6346-4d2d-96e0-d6c941570900",
   "metadata": {},
   "source": [
    "## Составим Регрессии\n"
   ]
  },
  {
   "cell_type": "markdown",
   "id": "a62aa258-15de-4dff-bd56-421e4b1b9b6f",
   "metadata": {},
   "source": [
    "Линейная регрессия"
   ]
  },
  {
   "cell_type": "code",
   "execution_count": 26,
   "id": "f8df6ed9-2be0-415e-add4-b89711708996",
   "metadata": {},
   "outputs": [
    {
     "data": {
      "text/plain": [
       "<Axes: >"
      ]
     },
     "execution_count": 26,
     "metadata": {},
     "output_type": "execute_result"
    },
    {
     "data": {
      "image/png": "[encoded data removed]",
      "text/plain": [
       "<Figure size 640x480 with 2 Axes>"
      ]
     },
     "metadata": {},
     "output_type": "display_data"
    }
   ],
   "source": [
    "corr_matrix = data1.corr()\n",
    "sns.heatmap(corr_matrix[['trip_duration']], annot=True, cmap=\"YlGnBu\", fmt=\".3f\")"
   ]
  },
  {
   "cell_type": "markdown",
   "id": "79f16e2a-c855-4171-bb42-c85adcb3bcac",
   "metadata": {},
   "source": [
    "Наиболее подходящими являются столбец pickup_longitude"
   ]
  },
  {
   "cell_type": "code",
   "execution_count": 27,
   "id": "f457b0f0-bae7-409f-9da9-274b33430b96",
   "metadata": {},
   "outputs": [],
   "source": [
    "train_lr = X_train['pickup_latitude'].values.reshape(-1,1)\n",
    "test_lr = X_test['pickup_latitude'].values.reshape(-1,1)\n",
    "\n",
    "lr = LinearRegression().fit(train_lr, y_train)\n",
    "y_predict = lr.predict(test_lr)"
   ]
  },
  {
   "cell_type": "code",
   "execution_count": 28,
   "id": "458d01ee-f0eb-411b-8cd2-0d3fb39df789",
   "metadata": {},
   "outputs": [
    {
     "data": {
      "text/plain": [
       "array([-151.31483049])"
      ]
     },
     "execution_count": 28,
     "metadata": {},
     "output_type": "execute_result"
    }
   ],
   "source": [
    "# Вес предиктора\n",
    "lr.coef_"
   ]
  },
  {
   "cell_type": "code",
   "execution_count": 29,
   "id": "f10f1fa1-df41-42f6-b817-2e53fe56555c",
   "metadata": {},
   "outputs": [],
   "source": [
    "## Создадим функцию для вывода ошибок\n",
    "def Errors(y_test, y_predict):\n",
    "    MAE = mean_absolute_error(y_test, y_predict)\n",
    "    MSE = mean_squared_error(y_test, y_predict)\n",
    "    RMSE = sqrt(mean_squared_error(y_test, y_predict))\n",
    "    MAPE = sqrt(mean_absolute_percentage_error(y_test, y_predict))\n",
    "    R2 = r2_score(y_test, y_predict)\n",
    "\n",
    "    print('MAE: ', MAE,'MSE: ', MSE, 'RMSE: ', RMSE, 'MAPE: ', MAPE, 'R2: ', R2) \n",
    "\n",
    "def MyErrors(y_test, y_predict):\n",
    "    mMAE = myMAE(y_test, y_predict)\n",
    "    mMSE = myMSE(y_test, y_predict)\n",
    "    mRMSE = myRMSE(y_test, y_predict)\n",
    "    mMAPE = myMAPE(y_test, y_predict)\n",
    "    mR2 = myR2(y_test, y_predict)\n",
    "\n",
    "    print('myMAE: ', mMAE, 'myMSE: ', mMSE, 'myRMSE: ', mRMSE, 'myMAPE: ', mMAPE, 'myR2: ', mR2)"
   ]
  },
  {
   "cell_type": "code",
   "execution_count": 30,
   "id": "7f3f60f7-ea2b-42f8-af0d-e83d0876fbb3",
   "metadata": {},
   "outputs": [
    {
     "name": "stdout",
     "output_type": "stream",
     "text": [
      "MAE:  611.5568312262693 MSE:  10157405.22576554 RMSE:  3187.0684375716723 MAPE:  1.2583492203511681 R2:  0.0017067412773691393\n",
      "myMAE:  611.556831226262 myMSE:  10157405.225765565 myRMSE:  3187.0684375716764 myMAPE:  1.5834427603584025 myR2:  0.001706741277362589\n"
     ]
    }
   ],
   "source": [
    "# Ошибки \n",
    "errors_lr = Errors(y_test, y_predict)\n",
    "MyErrors(y_test, y_predict)"
   ]
  },
  {
   "cell_type": "markdown",
   "id": "2b87cad9-20d6-43c2-8ab4-0147f25a71b9",
   "metadata": {},
   "source": [
    "## Ridge"
   ]
  },
  {
   "cell_type": "code",
   "execution_count": 31,
   "id": "0a4ec68c-70fe-4866-9f1f-e9b82e3b9df0",
   "metadata": {},
   "outputs": [],
   "source": [
    "## Найдем параметр для регуляризации сеткой\n",
    "r_parameters = {'alpha': np.arange(0.01, 1, 0.1)}"
   ]
  },
  {
   "cell_type": "code",
   "execution_count": 32,
   "id": "860e9bcf-d3cc-4156-84e3-dd1a27575ae6",
   "metadata": {},
   "outputs": [
    {
     "data": {
      "text/plain": [
       "{'alpha': 0.91}"
      ]
     },
     "execution_count": 32,
     "metadata": {},
     "output_type": "execute_result"
    }
   ],
   "source": [
    "best_ridge = GridSearchCV(Ridge(), r_parameters).fit(train_lr, y_train)\n",
    "best_ridge.best_params_"
   ]
  },
  {
   "cell_type": "markdown",
   "id": "4577cc5e-1b10-4f9a-8353-b822d52b301e",
   "metadata": {},
   "source": [
    "Оптимальный параметр - 0.91"
   ]
  },
  {
   "cell_type": "markdown",
   "id": "73b5c21c-a0c2-41f7-bd82-50428cb4c777",
   "metadata": {},
   "source": [
    "Обучим данную модель учитывая Ridge"
   ]
  },
  {
   "cell_type": "code",
   "execution_count": 33,
   "id": "2ebdc61e-a744-4465-b188-73970d3ed755",
   "metadata": {},
   "outputs": [],
   "source": [
    "ridge_lr = Ridge(alpha=0.91).fit(X_train[['pickup_latitude']], y_train)\n",
    "y_predict_ridge = ridge_lr.predict(X_test[['pickup_latitude']])"
   ]
  },
  {
   "cell_type": "code",
   "execution_count": 37,
   "id": "b9090dcf-39ce-495a-976b-6f366e5cf006",
   "metadata": {},
   "outputs": [
    {
     "name": "stdout",
     "output_type": "stream",
     "text": [
      "MAE:  611.556835503133 MSE:  10157405.21642986 RMSE:  3187.0684361070535 MAPE:  1.258349208553544 R2:  0.0017067421949013006\n",
      "myMAE:  611.556835503126 myMSE:  10157405.216429751 myRMSE:  3187.0684361070366 myMAPE:  1.5834427306673198 myR2:  0.001706742194907962\n"
     ]
    }
   ],
   "source": [
    "errors_ridge_lr = Errors(y_test, y_predict_ridge)\n",
    "MyErrors(y_test, y_predict_ridge)"
   ]
  },
  {
   "cell_type": "code",
   "execution_count": 38,
   "id": "803efc2b-8198-44ef-8f7d-2a53c269e6f9",
   "metadata": {},
   "outputs": [
    {
     "data": {
      "text/plain": [
       "array([-151.31459338])"
      ]
     },
     "execution_count": 38,
     "metadata": {},
     "output_type": "execute_result"
    }
   ],
   "source": [
    "ridge_lr.coef_"
   ]
  },
  {
   "cell_type": "markdown",
   "id": "5286d1a9-7cb7-4ffd-8db7-4594ff57517c",
   "metadata": {},
   "source": [
    "## Lasso"
   ]
  },
  {
   "cell_type": "code",
   "execution_count": 39,
   "id": "8be353eb-023f-4502-9957-a24e9e27dab8",
   "metadata": {},
   "outputs": [],
   "source": [
    "# Массив допустимых параметров\n",
    "l_parameters = {'alpha': np.arange(0.01, 1, 0.1)}"
   ]
  },
  {
   "cell_type": "markdown",
   "id": "f562a3fd-8c97-4802-a541-c7b29afe4aa4",
   "metadata": {},
   "source": [
    "Обучим данную модель учитывая Lasso"
   ]
  },
  {
   "cell_type": "code",
   "execution_count": 40,
   "id": "b6e27d5a-4019-42c6-849f-421fa0002147",
   "metadata": {},
   "outputs": [
    {
     "data": {
      "text/plain": [
       "{'alpha': 0.91}"
      ]
     },
     "execution_count": 40,
     "metadata": {},
     "output_type": "execute_result"
    }
   ],
   "source": [
    "best_lasso = GridSearchCV(Lasso(), l_parameters).fit(train_lr, y_train)\n",
    "best_lasso.best_params_"
   ]
  },
  {
   "cell_type": "code",
   "execution_count": 41,
   "id": "534302df-b414-4aed-845c-bfa6fb0cabfd",
   "metadata": {},
   "outputs": [],
   "source": [
    "lasso_lr = Ridge(alpha=0.91).fit(X_train[['pickup_latitude']], y_train)\n",
    "y_predict_lasso = lasso_lr.predict(X_test[['pickup_latitude']])"
   ]
  },
  {
   "cell_type": "code",
   "execution_count": 42,
   "id": "a87d2470-d5e7-4c3d-acef-af674e7a8a2a",
   "metadata": {},
   "outputs": [
    {
     "name": "stdout",
     "output_type": "stream",
     "text": [
      "MAE:  611.556835503133 MSE:  10157405.21642986 RMSE:  3187.0684361070535 MAPE:  1.258349208553544 R2:  0.0017067421949013006\n",
      "myMAE:  611.556835503126 myMSE:  10157405.216429751 myRMSE:  3187.0684361070366 myMAPE:  1.5834427306673198 myR2:  0.001706742194907962\n"
     ]
    }
   ],
   "source": [
    "errors_lasso_lr = Errors(y_test,  y_predict_lasso)\n",
    "MyErrors(y_test,  y_predict_lasso)"
   ]
  },
  {
   "cell_type": "code",
   "execution_count": 43,
   "id": "3852b21b-33e8-455c-ba68-8fdc9130d205",
   "metadata": {},
   "outputs": [
    {
     "data": {
      "text/plain": [
       "array([-151.31459338])"
      ]
     },
     "execution_count": 43,
     "metadata": {},
     "output_type": "execute_result"
    }
   ],
   "source": [
    "lasso_lr.coef_"
   ]
  },
  {
   "cell_type": "markdown",
   "id": "8e8327cb-36f8-4848-9536-9c1ad0f2eccc",
   "metadata": {},
   "source": [
    "## Elastic Net"
   ]
  },
  {
   "cell_type": "code",
   "execution_count": 44,
   "id": "e834cadd-eff9-4cba-8e8c-6ec7d9878e23",
   "metadata": {},
   "outputs": [],
   "source": [
    "elastic_lr = ElasticNet(alpha=10, l1_ratio=0.1).fit(X_train[['pickup_latitude']], y_train)\n",
    "y_predict_elastic = elastic_lr.predict(X_test[['pickup_latitude']])"
   ]
  },
  {
   "cell_type": "code",
   "execution_count": 46,
   "id": "04f9c0a7-c3f8-4742-b21d-9550673d753d",
   "metadata": {},
   "outputs": [
    {
     "name": "stdout",
     "output_type": "stream",
     "text": [
      "MAE:  619.5375092597887 MSE:  10170977.831368877 RMSE:  3189.197051197821 MAPE:  1.2571633706338732 R2:  0.00037279423322222893\n",
      "myMAE:  619.5375092597833 myMSE:  10170977.831368778 myRMSE:  3189.1970511978056 myMAPE:  1.5804597404635272 myR2:  0.0003727942332280021\n"
     ]
    }
   ],
   "source": [
    "errors_elastic_lr = Errors(y_test, y_predict_elastic)\n",
    "MyErrors(y_test, y_predict_elastic)"
   ]
  },
  {
   "cell_type": "code",
   "execution_count": 47,
   "id": "e169db2b-f249-4c82-98f8-d6cfb5bcd1c9",
   "metadata": {},
   "outputs": [
    {
     "data": {
      "text/plain": [
       "array([-14.96725247])"
      ]
     },
     "execution_count": 47,
     "metadata": {},
     "output_type": "execute_result"
    }
   ],
   "source": [
    "elastic_lr.coef_"
   ]
  },
  {
   "cell_type": "markdown",
   "id": "763a88b1-d917-4adc-86ee-0d5fd1ea7106",
   "metadata": {},
   "source": [
    "## Заключение\n"
   ]
  },
  {
   "cell_type": "markdown",
   "id": "9e49f4ef-4790-4cc7-ad60-425785363ace",
   "metadata": {},
   "source": [
    "Сравнивая полученные результаты, делаем вывод что наилучшая модель обучения среди данных - это Elastic Net, хотя значения практически не отличаются друг от друга."
   ]
  },
  {
   "cell_type": "markdown",
   "id": "a174aa05-e56b-462a-a4ad-068e5bec16fd",
   "metadata": {},
   "source": [
    "## Масштабирование\n"
   ]
  },
  {
   "cell_type": "code",
   "execution_count": 48,
   "id": "67e1722f-fff0-45f9-873e-0644bbed122d",
   "metadata": {},
   "outputs": [],
   "source": [
    "scaler = StandardScaler()"
   ]
  },
  {
   "cell_type": "code",
   "execution_count": 49,
   "id": "3e508f50-4038-46bc-a82b-3c051e4d3e32",
   "metadata": {},
   "outputs": [
    {
     "data": {
      "text/html": [
       "<style>#sk-container-id-1 {color: black;}#sk-container-id-1 pre{padding: 0;}#sk-container-id-1 div.sk-toggleable {background-color: white;}#sk-container-id-1 label.sk-toggleable__label {cursor: pointer;display: block;width: 100%;margin-bottom: 0;padding: 0.3em;box-sizing: border-box;text-align: center;}#sk-container-id-1 label.sk-toggleable__label-arrow:before {content: \"▸\";float: left;margin-right: 0.25em;color: #696969;}#sk-container-id-1 label.sk-toggleable__label-arrow:hover:before {color: black;}#sk-container-id-1 div.sk-estimator:hover label.sk-toggleable__label-arrow:before {color: black;}#sk-container-id-1 div.sk-toggleable__content {max-height: 0;max-width: 0;overflow: hidden;text-align: left;background-color: #f0f8ff;}#sk-container-id-1 div.sk-toggleable__content pre {margin: 0.2em;color: black;border-radius: 0.25em;background-color: #f0f8ff;}#sk-container-id-1 input.sk-toggleable__control:checked~div.sk-toggleable__content {max-height: 200px;max-width: 100%;overflow: auto;}#sk-container-id-1 input.sk-toggleable__control:checked~label.sk-toggleable__label-arrow:before {content: \"▾\";}#sk-container-id-1 div.sk-estimator input.sk-toggleable__control:checked~label.sk-toggleable__label {background-color: #d4ebff;}#sk-container-id-1 div.sk-label input.sk-toggleable__control:checked~label.sk-toggleable__label {background-color: #d4ebff;}#sk-container-id-1 input.sk-hidden--visually {border: 0;clip: rect(1px 1px 1px 1px);clip: rect(1px, 1px, 1px, 1px);height: 1px;margin: -1px;overflow: hidden;padding: 0;position: absolute;width: 1px;}#sk-container-id-1 div.sk-estimator {font-family: monospace;background-color: #f0f8ff;border: 1px dotted black;border-radius: 0.25em;box-sizing: border-box;margin-bottom: 0.5em;}#sk-container-id-1 div.sk-estimator:hover {background-color: #d4ebff;}#sk-container-id-1 div.sk-parallel-item::after {content: \"\";width: 100%;border-bottom: 1px solid gray;flex-grow: 1;}#sk-container-id-1 div.sk-label:hover label.sk-toggleable__label {background-color: #d4ebff;}#sk-container-id-1 div.sk-serial::before {content: \"\";position: absolute;border-left: 1px solid gray;box-sizing: border-box;top: 0;bottom: 0;left: 50%;z-index: 0;}#sk-container-id-1 div.sk-serial {display: flex;flex-direction: column;align-items: center;background-color: white;padding-right: 0.2em;padding-left: 0.2em;position: relative;}#sk-container-id-1 div.sk-item {position: relative;z-index: 1;}#sk-container-id-1 div.sk-parallel {display: flex;align-items: stretch;justify-content: center;background-color: white;position: relative;}#sk-container-id-1 div.sk-item::before, #sk-container-id-1 div.sk-parallel-item::before {content: \"\";position: absolute;border-left: 1px solid gray;box-sizing: border-box;top: 0;bottom: 0;left: 50%;z-index: -1;}#sk-container-id-1 div.sk-parallel-item {display: flex;flex-direction: column;z-index: 1;position: relative;background-color: white;}#sk-container-id-1 div.sk-parallel-item:first-child::after {align-self: flex-end;width: 50%;}#sk-container-id-1 div.sk-parallel-item:last-child::after {align-self: flex-start;width: 50%;}#sk-container-id-1 div.sk-parallel-item:only-child::after {width: 0;}#sk-container-id-1 div.sk-dashed-wrapped {border: 1px dashed gray;margin: 0 0.4em 0.5em 0.4em;box-sizing: border-box;padding-bottom: 0.4em;background-color: white;}#sk-container-id-1 div.sk-label label {font-family: monospace;font-weight: bold;display: inline-block;line-height: 1.2em;}#sk-container-id-1 div.sk-label-container {text-align: center;}#sk-container-id-1 div.sk-container {/* jupyter's `normalize.less` sets `[hidden] { display: none; }` but bootstrap.min.css set `[hidden] { display: none !important; }` so we also need the `!important` here to be able to override the default hidden behavior on the sphinx rendered scikit-learn.org. See: https://github.com/scikit-learn/scikit-learn/issues/21755 */display: inline-block !important;position: relative;}#sk-container-id-1 div.sk-text-repr-fallback {display: none;}</style><div id=\"sk-container-id-1\" class=\"sk-top-container\"><div class=\"sk-text-repr-fallback\"><pre>StandardScaler()</pre><b>In a Jupyter environment, please rerun this cell to show the HTML representation or trust the notebook. <br />On GitHub, the HTML representation is unable to render, please try loading this page with nbviewer.org.</b></div><div class=\"sk-container\" hidden><div class=\"sk-item\"><div class=\"sk-estimator sk-toggleable\"><input class=\"sk-toggleable__control sk-hidden--visually\" id=\"sk-estimator-id-1\" type=\"checkbox\" checked><label for=\"sk-estimator-id-1\" class=\"sk-toggleable__label sk-toggleable__label-arrow\">StandardScaler</label><div class=\"sk-toggleable__content\"><pre>StandardScaler()</pre></div></div></div></div></div>"
      ],
      "text/plain": [
       "StandardScaler()"
      ]
     },
     "execution_count": 49,
     "metadata": {},
     "output_type": "execute_result"
    }
   ],
   "source": [
    "scaler.fit(X_train)"
   ]
  },
  {
   "cell_type": "code",
   "execution_count": 50,
   "id": "8c116166-6db7-424c-ab7f-73835542d160",
   "metadata": {},
   "outputs": [],
   "source": [
    "X_train = scaler.transform(X_train)\n",
    "X_test = scaler.transform(X_test)"
   ]
  },
  {
   "cell_type": "markdown",
   "id": "ae5e6c30-db91-4d15-b544-0f12a85558c5",
   "metadata": {},
   "source": [
    "## Множественная линейнаяя регрессия"
   ]
  },
  {
   "cell_type": "code",
   "execution_count": 51,
   "id": "823b7b7d-d7b5-4f62-b268-c94ffc5dab93",
   "metadata": {},
   "outputs": [],
   "source": [
    "mlr = LinearRegression().fit(X_train, y_train)\n",
    "y_pred = mlr.predict(X_test)\n"
   ]
  },
  {
   "cell_type": "code",
   "execution_count": 52,
   "id": "0532062c-53c5-4d0f-a242-777bc1cd8bef",
   "metadata": {},
   "outputs": [
    {
     "name": "stdout",
     "output_type": "stream",
     "text": [
      "MAE:  601.3863210564067 MSE:  10121228.796982035 RMSE:  3181.3878727659153 MAPE:  1.2591829973172641 R2:  0.005262244299698238\n",
      "myMAE:  601.3863210563986 myMSE:  10121228.796982024 myRMSE:  3181.3878727659135 myMAPE:  1.5855418207328602 myR2:  0.005262244299695462\n"
     ]
    }
   ],
   "source": [
    "errors_mlr = Errors(y_test, y_pred)\n",
    "MyErrors(y_test, y_pred)"
   ]
  },
  {
   "cell_type": "code",
   "execution_count": 53,
   "id": "4c2e05ee-a117-4b92-b35c-a17c9e2836c3",
   "metadata": {},
   "outputs": [
    {
     "data": {
      "text/plain": [
       "array([  99.01909026,   19.84184377,  183.84329114, -121.29701061,\n",
       "        -47.21312068,  -76.54124352])"
      ]
     },
     "execution_count": 53,
     "metadata": {},
     "output_type": "execute_result"
    }
   ],
   "source": [
    "mlr.coef_"
   ]
  },
  {
   "cell_type": "markdown",
   "id": "e3697a5f-c375-411d-92e4-510376086b53",
   "metadata": {},
   "source": [
    "## Ridge"
   ]
  },
  {
   "cell_type": "code",
   "execution_count": 54,
   "id": "9dd669d2-7cde-4c7d-8e9b-6f893e39a767",
   "metadata": {},
   "outputs": [
    {
     "data": {
      "text/plain": [
       "{'alpha': 0.9}"
      ]
     },
     "execution_count": 54,
     "metadata": {},
     "output_type": "execute_result"
    }
   ],
   "source": [
    "r_parameters = {'alpha': np.arange(0, 1, 0.1)}\n",
    "\n",
    "best_ridge = GridSearchCV(Ridge(), r_parameters).fit(X_train, y_train)\n",
    "best_ridge.best_params_"
   ]
  },
  {
   "cell_type": "code",
   "execution_count": 56,
   "id": "4e2d84a6-114e-4260-afa7-0f7fecbc6f05",
   "metadata": {},
   "outputs": [],
   "source": [
    "ridge_mlr = Ridge(alpha=0.9).fit(X_train, y_train)\n",
    "y_predict_ridge = ridge_mlr.predict(X_test)"
   ]
  },
  {
   "cell_type": "code",
   "execution_count": 57,
   "id": "e89ff987-29d3-40c7-8c72-3bdab04223e6",
   "metadata": {},
   "outputs": [
    {
     "data": {
      "text/plain": [
       "array([  99.01893827,   19.84185852,  183.84229254, -121.29689774,\n",
       "        -47.21225636,  -76.54119687])"
      ]
     },
     "execution_count": 57,
     "metadata": {},
     "output_type": "execute_result"
    }
   ],
   "source": [
    "ridge_mlr.coef_"
   ]
  },
  {
   "cell_type": "code",
   "execution_count": 58,
   "id": "fc87ded9-65c0-4a15-8d04-e27a2c9cd343",
   "metadata": {},
   "outputs": [
    {
     "name": "stdout",
     "output_type": "stream",
     "text": [
      "MAE:  601.3863116056979 MSE:  10121228.787162116 RMSE:  3181.3878712225765 MAPE:  1.259182981703311 R2:  0.0052622452648225515\n",
      "myMAE:  601.3863116057082 myMSE:  10121228.787162255 myRMSE:  3181.3878712225983 myMAPE:  1.5855417814112123 myR2:  0.00526224526480501\n"
     ]
    }
   ],
   "source": [
    "errors_ridge_mlr = Errors(y_test, y_predict_ridge)\n",
    "MyErrors(y_test, y_predict_ridge)"
   ]
  },
  {
   "cell_type": "markdown",
   "id": "fda8c9a4-b675-4e07-8112-b9db49843fe6",
   "metadata": {},
   "source": [
    "Наблюдаем изменение значений"
   ]
  },
  {
   "cell_type": "markdown",
   "id": "7263d8d3-dcb1-48a8-bf86-749c3acbe5e0",
   "metadata": {},
   "source": [
    "## Lasso"
   ]
  },
  {
   "cell_type": "code",
   "execution_count": 59,
   "id": "dca8a491-f3f8-4db1-a215-57af77087e7e",
   "metadata": {},
   "outputs": [
    {
     "data": {
      "text/plain": [
       "{'alpha': 0.91}"
      ]
     },
     "execution_count": 59,
     "metadata": {},
     "output_type": "execute_result"
    }
   ],
   "source": [
    "best_lasso = GridSearchCV(Lasso(), l_parameters).fit(X_train, y_train)\n",
    "best_lasso.best_params_"
   ]
  },
  {
   "cell_type": "code",
   "execution_count": 60,
   "id": "9a9e95d6-1bbe-4846-a3af-64acf8ce44f6",
   "metadata": {},
   "outputs": [],
   "source": [
    "lasso_mlr = Lasso(alpha=0.91).fit(X_train, y_train)\n",
    "y_predict_lasso = lasso_mlr.predict(X_test)"
   ]
  },
  {
   "cell_type": "code",
   "execution_count": 61,
   "id": "dd32cc2b-16a1-48a0-b24a-833bb0d68966",
   "metadata": {},
   "outputs": [
    {
     "name": "stdout",
     "output_type": "stream",
     "text": [
      "MAE:  601.2704985681693 MSE:  10121081.626749901 RMSE:  3181.364742802985 MAPE:  1.2591491355740425 R2:  0.005276708530213781\n",
      "myMAE:  601.2704985681684 myMSE:  10121081.626749942 myRMSE:  3181.3647428029913 myMAPE:  1.585456545616881 myR2:  0.005276708530205676\n"
     ]
    }
   ],
   "source": [
    "errors_lasso_mlr = Errors(y_test, y_predict_lasso)\n",
    "MyErrors(y_test, y_predict_lasso)"
   ]
  },
  {
   "cell_type": "code",
   "execution_count": 62,
   "id": "1f3e8226-75c1-47bb-8ad1-6c216a2524e6",
   "metadata": {},
   "outputs": [
    {
     "data": {
      "text/plain": [
       "array([  98.33200072,   19.13796978,  178.99589894, -120.97325628,\n",
       "        -42.49045062,  -75.96983733])"
      ]
     },
     "execution_count": 62,
     "metadata": {},
     "output_type": "execute_result"
    }
   ],
   "source": [
    "lasso_mlr.coef_"
   ]
  },
  {
   "cell_type": "markdown",
   "id": "fc430df1-42b5-4259-83e3-371ab5db8e2f",
   "metadata": {},
   "source": [
    "## ElasticNet"
   ]
  },
  {
   "cell_type": "code",
   "execution_count": 63,
   "id": "42fbf405-bfec-4ac0-8ba1-54ba682e922f",
   "metadata": {},
   "outputs": [
    {
     "data": {
      "text/plain": [
       "{'alpha': 1, 'l1_ratio': 0.1}"
      ]
     },
     "execution_count": 63,
     "metadata": {},
     "output_type": "execute_result"
    }
   ],
   "source": [
    "elastic_model = ElasticNet(max_iter=100000)\n",
    "elastic_parametrs = {'alpha':[0.1,1,10,100],'l1_ratio':[0.1,0.75,0.99,1]}\n",
    "best_elastic = GridSearchCV(elastic_model, param_grid=elastic_parametrs,scoring = 'neg_mean_squared_error')\n",
    "best_elastic.fit(X_train, y_train)\n",
    "best_elastic.best_params_"
   ]
  },
  {
   "cell_type": "code",
   "execution_count": 64,
   "id": "80ff57f6-8183-4f94-837a-a411abcc8419",
   "metadata": {},
   "outputs": [],
   "source": [
    "elastic_mlr = ElasticNet(alpha=1, l1_ratio=0.1).fit(X_train, y_train)\n",
    "y_predict_elastic = elastic_mlr.predict(X_test)"
   ]
  },
  {
   "cell_type": "code",
   "execution_count": 65,
   "id": "92dc272a-e312-4973-bf38-054b895b833a",
   "metadata": {},
   "outputs": [
    {
     "name": "stdout",
     "output_type": "stream",
     "text": [
      "MAE:  604.8837056225993 MSE:  10131221.18363515 RMSE:  3182.957929919142 MAPE:  1.2556548493053867 R2:  0.004280169447643645\n",
      "myMAE:  604.8837056225972 myMSE:  10131221.183635259 myRMSE:  3182.957929919159 myMAPE:  1.5766691005841467 myR2:  0.004280169447628768\n"
     ]
    }
   ],
   "source": [
    "errors_elastic_mlr = Errors(y_test, y_predict_elastic)\n",
    "MyErrors(y_test, y_predict_elastic)"
   ]
  },
  {
   "cell_type": "code",
   "execution_count": 66,
   "id": "1c21b915-f5ad-4f48-bd69-78ccf124b2a0",
   "metadata": {},
   "outputs": [
    {
     "data": {
      "text/plain": [
       "array([ 52.63859133,  17.62126444,  64.63974805, -70.93296479,\n",
       "        20.55494339, -50.18519609])"
      ]
     },
     "execution_count": 66,
     "metadata": {},
     "output_type": "execute_result"
    }
   ],
   "source": [
    "elastic_mlr.coef_"
   ]
  },
  {
   "cell_type": "markdown",
   "id": "c51dfe8b-8594-4b8e-975a-8c0ae4c85d91",
   "metadata": {},
   "source": [
    "Наиулчшей моделью оказалась модель Lasso, модель ElasticNet очень близка к ней по всем поазателям"
   ]
  },
  {
   "cell_type": "markdown",
   "id": "ed327e60-7943-43f7-bf6c-64dfcf031395",
   "metadata": {},
   "source": [
    "## Полиномиальная регрессия"
   ]
  },
  {
   "cell_type": "code",
   "execution_count": 67,
   "id": "0e329e38-754a-454e-891a-60d526c40f30",
   "metadata": {},
   "outputs": [],
   "source": [
    "Input = [('polynomial', PolynomialFeatures(degree=2, include_bias=False)), ('model', LinearRegression())] "
   ]
  },
  {
   "cell_type": "code",
   "execution_count": 68,
   "id": "d150e105-b18a-4dd1-bc1a-9bfd21d0a8a9",
   "metadata": {},
   "outputs": [
    {
     "data": {
      "text/html": [
       "<style>#sk-container-id-2 {color: black;}#sk-container-id-2 pre{padding: 0;}#sk-container-id-2 div.sk-toggleable {background-color: white;}#sk-container-id-2 label.sk-toggleable__label {cursor: pointer;display: block;width: 100%;margin-bottom: 0;padding: 0.3em;box-sizing: border-box;text-align: center;}#sk-container-id-2 label.sk-toggleable__label-arrow:before {content: \"▸\";float: left;margin-right: 0.25em;color: #696969;}#sk-container-id-2 label.sk-toggleable__label-arrow:hover:before {color: black;}#sk-container-id-2 div.sk-estimator:hover label.sk-toggleable__label-arrow:before {color: black;}#sk-container-id-2 div.sk-toggleable__content {max-height: 0;max-width: 0;overflow: hidden;text-align: left;background-color: #f0f8ff;}#sk-container-id-2 div.sk-toggleable__content pre {margin: 0.2em;color: black;border-radius: 0.25em;background-color: #f0f8ff;}#sk-container-id-2 input.sk-toggleable__control:checked~div.sk-toggleable__content {max-height: 200px;max-width: 100%;overflow: auto;}#sk-container-id-2 input.sk-toggleable__control:checked~label.sk-toggleable__label-arrow:before {content: \"▾\";}#sk-container-id-2 div.sk-estimator input.sk-toggleable__control:checked~label.sk-toggleable__label {background-color: #d4ebff;}#sk-container-id-2 div.sk-label input.sk-toggleable__control:checked~label.sk-toggleable__label {background-color: #d4ebff;}#sk-container-id-2 input.sk-hidden--visually {border: 0;clip: rect(1px 1px 1px 1px);clip: rect(1px, 1px, 1px, 1px);height: 1px;margin: -1px;overflow: hidden;padding: 0;position: absolute;width: 1px;}#sk-container-id-2 div.sk-estimator {font-family: monospace;background-color: #f0f8ff;border: 1px dotted black;border-radius: 0.25em;box-sizing: border-box;margin-bottom: 0.5em;}#sk-container-id-2 div.sk-estimator:hover {background-color: #d4ebff;}#sk-container-id-2 div.sk-parallel-item::after {content: \"\";width: 100%;border-bottom: 1px solid gray;flex-grow: 1;}#sk-container-id-2 div.sk-label:hover label.sk-toggleable__label {background-color: #d4ebff;}#sk-container-id-2 div.sk-serial::before {content: \"\";position: absolute;border-left: 1px solid gray;box-sizing: border-box;top: 0;bottom: 0;left: 50%;z-index: 0;}#sk-container-id-2 div.sk-serial {display: flex;flex-direction: column;align-items: center;background-color: white;padding-right: 0.2em;padding-left: 0.2em;position: relative;}#sk-container-id-2 div.sk-item {position: relative;z-index: 1;}#sk-container-id-2 div.sk-parallel {display: flex;align-items: stretch;justify-content: center;background-color: white;position: relative;}#sk-container-id-2 div.sk-item::before, #sk-container-id-2 div.sk-parallel-item::before {content: \"\";position: absolute;border-left: 1px solid gray;box-sizing: border-box;top: 0;bottom: 0;left: 50%;z-index: -1;}#sk-container-id-2 div.sk-parallel-item {display: flex;flex-direction: column;z-index: 1;position: relative;background-color: white;}#sk-container-id-2 div.sk-parallel-item:first-child::after {align-self: flex-end;width: 50%;}#sk-container-id-2 div.sk-parallel-item:last-child::after {align-self: flex-start;width: 50%;}#sk-container-id-2 div.sk-parallel-item:only-child::after {width: 0;}#sk-container-id-2 div.sk-dashed-wrapped {border: 1px dashed gray;margin: 0 0.4em 0.5em 0.4em;box-sizing: border-box;padding-bottom: 0.4em;background-color: white;}#sk-container-id-2 div.sk-label label {font-family: monospace;font-weight: bold;display: inline-block;line-height: 1.2em;}#sk-container-id-2 div.sk-label-container {text-align: center;}#sk-container-id-2 div.sk-container {/* jupyter's `normalize.less` sets `[hidden] { display: none; }` but bootstrap.min.css set `[hidden] { display: none !important; }` so we also need the `!important` here to be able to override the default hidden behavior on the sphinx rendered scikit-learn.org. See: https://github.com/scikit-learn/scikit-learn/issues/21755 */display: inline-block !important;position: relative;}#sk-container-id-2 div.sk-text-repr-fallback {display: none;}</style><div id=\"sk-container-id-2\" class=\"sk-top-container\"><div class=\"sk-text-repr-fallback\"><pre>Pipeline(steps=[(&#x27;polynomial&#x27;, PolynomialFeatures(include_bias=False)),\n",
       "                (&#x27;model&#x27;, LinearRegression())])</pre><b>In a Jupyter environment, please rerun this cell to show the HTML representation or trust the notebook. <br />On GitHub, the HTML representation is unable to render, please try loading this page with nbviewer.org.</b></div><div class=\"sk-container\" hidden><div class=\"sk-item sk-dashed-wrapped\"><div class=\"sk-label-container\"><div class=\"sk-label sk-toggleable\"><input class=\"sk-toggleable__control sk-hidden--visually\" id=\"sk-estimator-id-2\" type=\"checkbox\" ><label for=\"sk-estimator-id-2\" class=\"sk-toggleable__label sk-toggleable__label-arrow\">Pipeline</label><div class=\"sk-toggleable__content\"><pre>Pipeline(steps=[(&#x27;polynomial&#x27;, PolynomialFeatures(include_bias=False)),\n",
       "                (&#x27;model&#x27;, LinearRegression())])</pre></div></div></div><div class=\"sk-serial\"><div class=\"sk-item\"><div class=\"sk-estimator sk-toggleable\"><input class=\"sk-toggleable__control sk-hidden--visually\" id=\"sk-estimator-id-3\" type=\"checkbox\" ><label for=\"sk-estimator-id-3\" class=\"sk-toggleable__label sk-toggleable__label-arrow\">PolynomialFeatures</label><div class=\"sk-toggleable__content\"><pre>PolynomialFeatures(include_bias=False)</pre></div></div></div><div class=\"sk-item\"><div class=\"sk-estimator sk-toggleable\"><input class=\"sk-toggleable__control sk-hidden--visually\" id=\"sk-estimator-id-4\" type=\"checkbox\" ><label for=\"sk-estimator-id-4\" class=\"sk-toggleable__label sk-toggleable__label-arrow\">LinearRegression</label><div class=\"sk-toggleable__content\"><pre>LinearRegression()</pre></div></div></div></div></div></div></div>"
      ],
      "text/plain": [
       "Pipeline(steps=[('polynomial', PolynomialFeatures(include_bias=False)),\n",
       "                ('model', LinearRegression())])"
      ]
     },
     "execution_count": 68,
     "metadata": {},
     "output_type": "execute_result"
    }
   ],
   "source": [
    "pipe = Pipeline(Input)\n",
    "pipe"
   ]
  },
  {
   "cell_type": "code",
   "execution_count": 69,
   "id": "62c45a74-f475-4f17-8fc5-523c621747e8",
   "metadata": {},
   "outputs": [
    {
     "data": {
      "text/html": [
       "<style>#sk-container-id-3 {color: black;}#sk-container-id-3 pre{padding: 0;}#sk-container-id-3 div.sk-toggleable {background-color: white;}#sk-container-id-3 label.sk-toggleable__label {cursor: pointer;display: block;width: 100%;margin-bottom: 0;padding: 0.3em;box-sizing: border-box;text-align: center;}#sk-container-id-3 label.sk-toggleable__label-arrow:before {content: \"▸\";float: left;margin-right: 0.25em;color: #696969;}#sk-container-id-3 label.sk-toggleable__label-arrow:hover:before {color: black;}#sk-container-id-3 div.sk-estimator:hover label.sk-toggleable__label-arrow:before {color: black;}#sk-container-id-3 div.sk-toggleable__content {max-height: 0;max-width: 0;overflow: hidden;text-align: left;background-color: #f0f8ff;}#sk-container-id-3 div.sk-toggleable__content pre {margin: 0.2em;color: black;border-radius: 0.25em;background-color: #f0f8ff;}#sk-container-id-3 input.sk-toggleable__control:checked~div.sk-toggleable__content {max-height: 200px;max-width: 100%;overflow: auto;}#sk-container-id-3 input.sk-toggleable__control:checked~label.sk-toggleable__label-arrow:before {content: \"▾\";}#sk-container-id-3 div.sk-estimator input.sk-toggleable__control:checked~label.sk-toggleable__label {background-color: #d4ebff;}#sk-container-id-3 div.sk-label input.sk-toggleable__control:checked~label.sk-toggleable__label {background-color: #d4ebff;}#sk-container-id-3 input.sk-hidden--visually {border: 0;clip: rect(1px 1px 1px 1px);clip: rect(1px, 1px, 1px, 1px);height: 1px;margin: -1px;overflow: hidden;padding: 0;position: absolute;width: 1px;}#sk-container-id-3 div.sk-estimator {font-family: monospace;background-color: #f0f8ff;border: 1px dotted black;border-radius: 0.25em;box-sizing: border-box;margin-bottom: 0.5em;}#sk-container-id-3 div.sk-estimator:hover {background-color: #d4ebff;}#sk-container-id-3 div.sk-parallel-item::after {content: \"\";width: 100%;border-bottom: 1px solid gray;flex-grow: 1;}#sk-container-id-3 div.sk-label:hover label.sk-toggleable__label {background-color: #d4ebff;}#sk-container-id-3 div.sk-serial::before {content: \"\";position: absolute;border-left: 1px solid gray;box-sizing: border-box;top: 0;bottom: 0;left: 50%;z-index: 0;}#sk-container-id-3 div.sk-serial {display: flex;flex-direction: column;align-items: center;background-color: white;padding-right: 0.2em;padding-left: 0.2em;position: relative;}#sk-container-id-3 div.sk-item {position: relative;z-index: 1;}#sk-container-id-3 div.sk-parallel {display: flex;align-items: stretch;justify-content: center;background-color: white;position: relative;}#sk-container-id-3 div.sk-item::before, #sk-container-id-3 div.sk-parallel-item::before {content: \"\";position: absolute;border-left: 1px solid gray;box-sizing: border-box;top: 0;bottom: 0;left: 50%;z-index: -1;}#sk-container-id-3 div.sk-parallel-item {display: flex;flex-direction: column;z-index: 1;position: relative;background-color: white;}#sk-container-id-3 div.sk-parallel-item:first-child::after {align-self: flex-end;width: 50%;}#sk-container-id-3 div.sk-parallel-item:last-child::after {align-self: flex-start;width: 50%;}#sk-container-id-3 div.sk-parallel-item:only-child::after {width: 0;}#sk-container-id-3 div.sk-dashed-wrapped {border: 1px dashed gray;margin: 0 0.4em 0.5em 0.4em;box-sizing: border-box;padding-bottom: 0.4em;background-color: white;}#sk-container-id-3 div.sk-label label {font-family: monospace;font-weight: bold;display: inline-block;line-height: 1.2em;}#sk-container-id-3 div.sk-label-container {text-align: center;}#sk-container-id-3 div.sk-container {/* jupyter's `normalize.less` sets `[hidden] { display: none; }` but bootstrap.min.css set `[hidden] { display: none !important; }` so we also need the `!important` here to be able to override the default hidden behavior on the sphinx rendered scikit-learn.org. See: https://github.com/scikit-learn/scikit-learn/issues/21755 */display: inline-block !important;position: relative;}#sk-container-id-3 div.sk-text-repr-fallback {display: none;}</style><div id=\"sk-container-id-3\" class=\"sk-top-container\"><div class=\"sk-text-repr-fallback\"><pre>Pipeline(steps=[(&#x27;polynomial&#x27;, PolynomialFeatures(include_bias=False)),\n",
       "                (&#x27;model&#x27;, LinearRegression())])</pre><b>In a Jupyter environment, please rerun this cell to show the HTML representation or trust the notebook. <br />On GitHub, the HTML representation is unable to render, please try loading this page with nbviewer.org.</b></div><div class=\"sk-container\" hidden><div class=\"sk-item sk-dashed-wrapped\"><div class=\"sk-label-container\"><div class=\"sk-label sk-toggleable\"><input class=\"sk-toggleable__control sk-hidden--visually\" id=\"sk-estimator-id-5\" type=\"checkbox\" ><label for=\"sk-estimator-id-5\" class=\"sk-toggleable__label sk-toggleable__label-arrow\">Pipeline</label><div class=\"sk-toggleable__content\"><pre>Pipeline(steps=[(&#x27;polynomial&#x27;, PolynomialFeatures(include_bias=False)),\n",
       "                (&#x27;model&#x27;, LinearRegression())])</pre></div></div></div><div class=\"sk-serial\"><div class=\"sk-item\"><div class=\"sk-estimator sk-toggleable\"><input class=\"sk-toggleable__control sk-hidden--visually\" id=\"sk-estimator-id-6\" type=\"checkbox\" ><label for=\"sk-estimator-id-6\" class=\"sk-toggleable__label sk-toggleable__label-arrow\">PolynomialFeatures</label><div class=\"sk-toggleable__content\"><pre>PolynomialFeatures(include_bias=False)</pre></div></div></div><div class=\"sk-item\"><div class=\"sk-estimator sk-toggleable\"><input class=\"sk-toggleable__control sk-hidden--visually\" id=\"sk-estimator-id-7\" type=\"checkbox\" ><label for=\"sk-estimator-id-7\" class=\"sk-toggleable__label sk-toggleable__label-arrow\">LinearRegression</label><div class=\"sk-toggleable__content\"><pre>LinearRegression()</pre></div></div></div></div></div></div></div>"
      ],
      "text/plain": [
       "Pipeline(steps=[('polynomial', PolynomialFeatures(include_bias=False)),\n",
       "                ('model', LinearRegression())])"
      ]
     },
     "execution_count": 69,
     "metadata": {},
     "output_type": "execute_result"
    }
   ],
   "source": [
    "pipe.fit(X_train, y_train)"
   ]
  },
  {
   "cell_type": "code",
   "execution_count": 70,
   "id": "ef1ec437-ee16-42d5-b800-5bd5d480e8e2",
   "metadata": {},
   "outputs": [],
   "source": [
    "y_predict = pipe.predict(X_test)"
   ]
  },
  {
   "cell_type": "code",
   "execution_count": 71,
   "id": "2ce02795-076d-4a52-a18c-6489d3b969c2",
   "metadata": {},
   "outputs": [
    {
     "name": "stdout",
     "output_type": "stream",
     "text": [
      "MAE:  571.4860683897911 MSE:  56858154.52545205 RMSE:  7540.434637701732 MAPE:  1.208500938331567 R2:  -4.588150822435114\n",
      "myMAE:  571.4860683897911 myMSE:  56858154.52545158 myRMSE:  7540.434637701701 myMAPE:  1.4604745179482816 myR2:  -4.58815082243509\n"
     ]
    }
   ],
   "source": [
    "errors_plr = Errors(y_test, y_predict)\n",
    "MyErrors(y_test, y_predict)"
   ]
  },
  {
   "cell_type": "code",
   "execution_count": 72,
   "id": "a2fee46a-55a0-4ab2-b901-ccb13b9d91cb",
   "metadata": {},
   "outputs": [
    {
     "data": {
      "image/png": "[encoded data removed]",
      "text/plain": [
       "<Figure size 1200x1000 with 1 Axes>"
      ]
     },
     "metadata": {},
     "output_type": "display_data"
    }
   ],
   "source": [
    "plt.figure(figsize=(12,10))\n",
    "ax2 = sns.distplot(y_test, hist=False, color='Red', label='Actual values')\n",
    "sns.distplot(y_predict, hist=False, color='Blue', label='Predicted values')\n",
    "plt.show()"
   ]
  },
  {
   "cell_type": "markdown",
   "id": "57ada54a-94f3-45de-b627-4bf57a20bdf3",
   "metadata": {},
   "source": [
    "Наблюдаем, что в целом модель неплохо предсказывает значения, однако отклонения все же имеются"
   ]
  },
  {
   "cell_type": "markdown",
   "id": "0a37930f-6c65-445c-b2ec-feb8b6f983df",
   "metadata": {},
   "source": [
    "## Ridge"
   ]
  },
  {
   "cell_type": "code",
   "execution_count": 73,
   "id": "5160e77a-0210-48a7-ac39-1b9d9ed509fc",
   "metadata": {},
   "outputs": [
    {
     "data": {
      "text/html": [
       "<style>#sk-container-id-4 {color: black;}#sk-container-id-4 pre{padding: 0;}#sk-container-id-4 div.sk-toggleable {background-color: white;}#sk-container-id-4 label.sk-toggleable__label {cursor: pointer;display: block;width: 100%;margin-bottom: 0;padding: 0.3em;box-sizing: border-box;text-align: center;}#sk-container-id-4 label.sk-toggleable__label-arrow:before {content: \"▸\";float: left;margin-right: 0.25em;color: #696969;}#sk-container-id-4 label.sk-toggleable__label-arrow:hover:before {color: black;}#sk-container-id-4 div.sk-estimator:hover label.sk-toggleable__label-arrow:before {color: black;}#sk-container-id-4 div.sk-toggleable__content {max-height: 0;max-width: 0;overflow: hidden;text-align: left;background-color: #f0f8ff;}#sk-container-id-4 div.sk-toggleable__content pre {margin: 0.2em;color: black;border-radius: 0.25em;background-color: #f0f8ff;}#sk-container-id-4 input.sk-toggleable__control:checked~div.sk-toggleable__content {max-height: 200px;max-width: 100%;overflow: auto;}#sk-container-id-4 input.sk-toggleable__control:checked~label.sk-toggleable__label-arrow:before {content: \"▾\";}#sk-container-id-4 div.sk-estimator input.sk-toggleable__control:checked~label.sk-toggleable__label {background-color: #d4ebff;}#sk-container-id-4 div.sk-label input.sk-toggleable__control:checked~label.sk-toggleable__label {background-color: #d4ebff;}#sk-container-id-4 input.sk-hidden--visually {border: 0;clip: rect(1px 1px 1px 1px);clip: rect(1px, 1px, 1px, 1px);height: 1px;margin: -1px;overflow: hidden;padding: 0;position: absolute;width: 1px;}#sk-container-id-4 div.sk-estimator {font-family: monospace;background-color: #f0f8ff;border: 1px dotted black;border-radius: 0.25em;box-sizing: border-box;margin-bottom: 0.5em;}#sk-container-id-4 div.sk-estimator:hover {background-color: #d4ebff;}#sk-container-id-4 div.sk-parallel-item::after {content: \"\";width: 100%;border-bottom: 1px solid gray;flex-grow: 1;}#sk-container-id-4 div.sk-label:hover label.sk-toggleable__label {background-color: #d4ebff;}#sk-container-id-4 div.sk-serial::before {content: \"\";position: absolute;border-left: 1px solid gray;box-sizing: border-box;top: 0;bottom: 0;left: 50%;z-index: 0;}#sk-container-id-4 div.sk-serial {display: flex;flex-direction: column;align-items: center;background-color: white;padding-right: 0.2em;padding-left: 0.2em;position: relative;}#sk-container-id-4 div.sk-item {position: relative;z-index: 1;}#sk-container-id-4 div.sk-parallel {display: flex;align-items: stretch;justify-content: center;background-color: white;position: relative;}#sk-container-id-4 div.sk-item::before, #sk-container-id-4 div.sk-parallel-item::before {content: \"\";position: absolute;border-left: 1px solid gray;box-sizing: border-box;top: 0;bottom: 0;left: 50%;z-index: -1;}#sk-container-id-4 div.sk-parallel-item {display: flex;flex-direction: column;z-index: 1;position: relative;background-color: white;}#sk-container-id-4 div.sk-parallel-item:first-child::after {align-self: flex-end;width: 50%;}#sk-container-id-4 div.sk-parallel-item:last-child::after {align-self: flex-start;width: 50%;}#sk-container-id-4 div.sk-parallel-item:only-child::after {width: 0;}#sk-container-id-4 div.sk-dashed-wrapped {border: 1px dashed gray;margin: 0 0.4em 0.5em 0.4em;box-sizing: border-box;padding-bottom: 0.4em;background-color: white;}#sk-container-id-4 div.sk-label label {font-family: monospace;font-weight: bold;display: inline-block;line-height: 1.2em;}#sk-container-id-4 div.sk-label-container {text-align: center;}#sk-container-id-4 div.sk-container {/* jupyter's `normalize.less` sets `[hidden] { display: none; }` but bootstrap.min.css set `[hidden] { display: none !important; }` so we also need the `!important` here to be able to override the default hidden behavior on the sphinx rendered scikit-learn.org. See: https://github.com/scikit-learn/scikit-learn/issues/21755 */display: inline-block !important;position: relative;}#sk-container-id-4 div.sk-text-repr-fallback {display: none;}</style><div id=\"sk-container-id-4\" class=\"sk-top-container\"><div class=\"sk-text-repr-fallback\"><pre>Pipeline(steps=[(&#x27;standardscaler&#x27;, StandardScaler()),\n",
       "                (&#x27;polynomial&#x27;, PolynomialFeatures(include_bias=False)),\n",
       "                (&#x27;model&#x27;, Ridge(alpha=0.9))])</pre><b>In a Jupyter environment, please rerun this cell to show the HTML representation or trust the notebook. <br />On GitHub, the HTML representation is unable to render, please try loading this page with nbviewer.org.</b></div><div class=\"sk-container\" hidden><div class=\"sk-item sk-dashed-wrapped\"><div class=\"sk-label-container\"><div class=\"sk-label sk-toggleable\"><input class=\"sk-toggleable__control sk-hidden--visually\" id=\"sk-estimator-id-8\" type=\"checkbox\" ><label for=\"sk-estimator-id-8\" class=\"sk-toggleable__label sk-toggleable__label-arrow\">Pipeline</label><div class=\"sk-toggleable__content\"><pre>Pipeline(steps=[(&#x27;standardscaler&#x27;, StandardScaler()),\n",
       "                (&#x27;polynomial&#x27;, PolynomialFeatures(include_bias=False)),\n",
       "                (&#x27;model&#x27;, Ridge(alpha=0.9))])</pre></div></div></div><div class=\"sk-serial\"><div class=\"sk-item\"><div class=\"sk-estimator sk-toggleable\"><input class=\"sk-toggleable__control sk-hidden--visually\" id=\"sk-estimator-id-9\" type=\"checkbox\" ><label for=\"sk-estimator-id-9\" class=\"sk-toggleable__label sk-toggleable__label-arrow\">StandardScaler</label><div class=\"sk-toggleable__content\"><pre>StandardScaler()</pre></div></div></div><div class=\"sk-item\"><div class=\"sk-estimator sk-toggleable\"><input class=\"sk-toggleable__control sk-hidden--visually\" id=\"sk-estimator-id-10\" type=\"checkbox\" ><label for=\"sk-estimator-id-10\" class=\"sk-toggleable__label sk-toggleable__label-arrow\">PolynomialFeatures</label><div class=\"sk-toggleable__content\"><pre>PolynomialFeatures(include_bias=False)</pre></div></div></div><div class=\"sk-item\"><div class=\"sk-estimator sk-toggleable\"><input class=\"sk-toggleable__control sk-hidden--visually\" id=\"sk-estimator-id-11\" type=\"checkbox\" ><label for=\"sk-estimator-id-11\" class=\"sk-toggleable__label sk-toggleable__label-arrow\">Ridge</label><div class=\"sk-toggleable__content\"><pre>Ridge(alpha=0.9)</pre></div></div></div></div></div></div></div>"
      ],
      "text/plain": [
       "Pipeline(steps=[('standardscaler', StandardScaler()),\n",
       "                ('polynomial', PolynomialFeatures(include_bias=False)),\n",
       "                ('model', Ridge(alpha=0.9))])"
      ]
     },
     "execution_count": 73,
     "metadata": {},
     "output_type": "execute_result"
    }
   ],
   "source": [
    "Input = [('standardscaler', StandardScaler()), ('polynomial', PolynomialFeatures(degree=2, include_bias=False)), ('model', Ridge(alpha=0.9))]\n",
    "pipe_ridge = Pipeline(Input)\n",
    "pipe_ridge.fit(X_train, y_train)"
   ]
  },
  {
   "cell_type": "code",
   "execution_count": 74,
   "id": "065e9ad4-55f1-4bf9-ab73-c2098ece6831",
   "metadata": {},
   "outputs": [
    {
     "data": {
      "text/plain": [
       "array([ 766.75294611,  696.42157782,  829.43654415, ...,  649.45688873,\n",
       "        772.31792881, 1212.66109575])"
      ]
     },
     "execution_count": 74,
     "metadata": {},
     "output_type": "execute_result"
    }
   ],
   "source": [
    "y_predict_ridge = pipe_ridge.predict(X_test)\n",
    "y_predict_ridge"
   ]
  },
  {
   "cell_type": "code",
   "execution_count": 75,
   "id": "54259cb3-e2c1-407d-be24-55a7bae23124",
   "metadata": {},
   "outputs": [
    {
     "name": "stdout",
     "output_type": "stream",
     "text": [
      "MAE:  571.4724834767368 MSE:  56857966.11347714 RMSE:  7540.422144248765 MAPE:  1.2084691443574727 R2:  -4.588132304870812\n",
      "myMAE:  571.4724834767401 myMSE:  56857966.11347669 myRMSE:  7540.422144248735 myMAPE:  1.4603976728640682 myR2:  -4.588132304870791\n"
     ]
    }
   ],
   "source": [
    "errors_ridge_plr = Errors(y_test, y_predict_ridge)\n",
    "MyErrors(y_test, y_predict_ridge)"
   ]
  },
  {
   "cell_type": "code",
   "execution_count": 78,
   "id": "cec37f08-0066-45bc-b9cd-9d4c50ba221a",
   "metadata": {
    "scrolled": true
   },
   "outputs": [
    {
     "data": {
      "image/png": "[encoded data removed]",
      "text/plain": [
       "<Figure size 1200x1000 with 1 Axes>"
      ]
     },
     "metadata": {},
     "output_type": "display_data"
    }
   ],
   "source": [
    "plt.figure(figsize=(12,10))\n",
    "ax2 = sns.distplot(y_test, hist=False, color='Red', label='Actual values')\n",
    "sns.distplot(y_predict_ridge, hist=False, color='Blue', label='Predicted values')\n",
    "plt.show()"
   ]
  },
  {
   "cell_type": "markdown",
   "id": "981383eb-fd65-4f13-8ea3-db3f02c97fb4",
   "metadata": {},
   "source": [
    "Показатели практически не изменились"
   ]
  },
  {
   "cell_type": "markdown",
   "id": "93729099-4c25-4a41-a1b2-76ad8e5f7701",
   "metadata": {},
   "source": [
    "## Lasso"
   ]
  },
  {
   "cell_type": "code",
   "execution_count": 80,
   "id": "cc161125-90e7-4938-aab2-9e8ac8b2cc32",
   "metadata": {},
   "outputs": [
    {
     "data": {
      "text/html": [
       "<style>#sk-container-id-6 {color: black;}#sk-container-id-6 pre{padding: 0;}#sk-container-id-6 div.sk-toggleable {background-color: white;}#sk-container-id-6 label.sk-toggleable__label {cursor: pointer;display: block;width: 100%;margin-bottom: 0;padding: 0.3em;box-sizing: border-box;text-align: center;}#sk-container-id-6 label.sk-toggleable__label-arrow:before {content: \"▸\";float: left;margin-right: 0.25em;color: #696969;}#sk-container-id-6 label.sk-toggleable__label-arrow:hover:before {color: black;}#sk-container-id-6 div.sk-estimator:hover label.sk-toggleable__label-arrow:before {color: black;}#sk-container-id-6 div.sk-toggleable__content {max-height: 0;max-width: 0;overflow: hidden;text-align: left;background-color: #f0f8ff;}#sk-container-id-6 div.sk-toggleable__content pre {margin: 0.2em;color: black;border-radius: 0.25em;background-color: #f0f8ff;}#sk-container-id-6 input.sk-toggleable__control:checked~div.sk-toggleable__content {max-height: 200px;max-width: 100%;overflow: auto;}#sk-container-id-6 input.sk-toggleable__control:checked~label.sk-toggleable__label-arrow:before {content: \"▾\";}#sk-container-id-6 div.sk-estimator input.sk-toggleable__control:checked~label.sk-toggleable__label {background-color: #d4ebff;}#sk-container-id-6 div.sk-label input.sk-toggleable__control:checked~label.sk-toggleable__label {background-color: #d4ebff;}#sk-container-id-6 input.sk-hidden--visually {border: 0;clip: rect(1px 1px 1px 1px);clip: rect(1px, 1px, 1px, 1px);height: 1px;margin: -1px;overflow: hidden;padding: 0;position: absolute;width: 1px;}#sk-container-id-6 div.sk-estimator {font-family: monospace;background-color: #f0f8ff;border: 1px dotted black;border-radius: 0.25em;box-sizing: border-box;margin-bottom: 0.5em;}#sk-container-id-6 div.sk-estimator:hover {background-color: #d4ebff;}#sk-container-id-6 div.sk-parallel-item::after {content: \"\";width: 100%;border-bottom: 1px solid gray;flex-grow: 1;}#sk-container-id-6 div.sk-label:hover label.sk-toggleable__label {background-color: #d4ebff;}#sk-container-id-6 div.sk-serial::before {content: \"\";position: absolute;border-left: 1px solid gray;box-sizing: border-box;top: 0;bottom: 0;left: 50%;z-index: 0;}#sk-container-id-6 div.sk-serial {display: flex;flex-direction: column;align-items: center;background-color: white;padding-right: 0.2em;padding-left: 0.2em;position: relative;}#sk-container-id-6 div.sk-item {position: relative;z-index: 1;}#sk-container-id-6 div.sk-parallel {display: flex;align-items: stretch;justify-content: center;background-color: white;position: relative;}#sk-container-id-6 div.sk-item::before, #sk-container-id-6 div.sk-parallel-item::before {content: \"\";position: absolute;border-left: 1px solid gray;box-sizing: border-box;top: 0;bottom: 0;left: 50%;z-index: -1;}#sk-container-id-6 div.sk-parallel-item {display: flex;flex-direction: column;z-index: 1;position: relative;background-color: white;}#sk-container-id-6 div.sk-parallel-item:first-child::after {align-self: flex-end;width: 50%;}#sk-container-id-6 div.sk-parallel-item:last-child::after {align-self: flex-start;width: 50%;}#sk-container-id-6 div.sk-parallel-item:only-child::after {width: 0;}#sk-container-id-6 div.sk-dashed-wrapped {border: 1px dashed gray;margin: 0 0.4em 0.5em 0.4em;box-sizing: border-box;padding-bottom: 0.4em;background-color: white;}#sk-container-id-6 div.sk-label label {font-family: monospace;font-weight: bold;display: inline-block;line-height: 1.2em;}#sk-container-id-6 div.sk-label-container {text-align: center;}#sk-container-id-6 div.sk-container {/* jupyter's `normalize.less` sets `[hidden] { display: none; }` but bootstrap.min.css set `[hidden] { display: none !important; }` so we also need the `!important` here to be able to override the default hidden behavior on the sphinx rendered scikit-learn.org. See: https://github.com/scikit-learn/scikit-learn/issues/21755 */display: inline-block !important;position: relative;}#sk-container-id-6 div.sk-text-repr-fallback {display: none;}</style><div id=\"sk-container-id-6\" class=\"sk-top-container\"><div class=\"sk-text-repr-fallback\"><pre>Pipeline(steps=[(&#x27;standardscaler&#x27;, StandardScaler()),\n",
       "                (&#x27;polynomial&#x27;, PolynomialFeatures(include_bias=False)),\n",
       "                (&#x27;model&#x27;, Lasso(alpha=0.01))])</pre><b>In a Jupyter environment, please rerun this cell to show the HTML representation or trust the notebook. <br />On GitHub, the HTML representation is unable to render, please try loading this page with nbviewer.org.</b></div><div class=\"sk-container\" hidden><div class=\"sk-item sk-dashed-wrapped\"><div class=\"sk-label-container\"><div class=\"sk-label sk-toggleable\"><input class=\"sk-toggleable__control sk-hidden--visually\" id=\"sk-estimator-id-16\" type=\"checkbox\" ><label for=\"sk-estimator-id-16\" class=\"sk-toggleable__label sk-toggleable__label-arrow\">Pipeline</label><div class=\"sk-toggleable__content\"><pre>Pipeline(steps=[(&#x27;standardscaler&#x27;, StandardScaler()),\n",
       "                (&#x27;polynomial&#x27;, PolynomialFeatures(include_bias=False)),\n",
       "                (&#x27;model&#x27;, Lasso(alpha=0.01))])</pre></div></div></div><div class=\"sk-serial\"><div class=\"sk-item\"><div class=\"sk-estimator sk-toggleable\"><input class=\"sk-toggleable__control sk-hidden--visually\" id=\"sk-estimator-id-17\" type=\"checkbox\" ><label for=\"sk-estimator-id-17\" class=\"sk-toggleable__label sk-toggleable__label-arrow\">StandardScaler</label><div class=\"sk-toggleable__content\"><pre>StandardScaler()</pre></div></div></div><div class=\"sk-item\"><div class=\"sk-estimator sk-toggleable\"><input class=\"sk-toggleable__control sk-hidden--visually\" id=\"sk-estimator-id-18\" type=\"checkbox\" ><label for=\"sk-estimator-id-18\" class=\"sk-toggleable__label sk-toggleable__label-arrow\">PolynomialFeatures</label><div class=\"sk-toggleable__content\"><pre>PolynomialFeatures(include_bias=False)</pre></div></div></div><div class=\"sk-item\"><div class=\"sk-estimator sk-toggleable\"><input class=\"sk-toggleable__control sk-hidden--visually\" id=\"sk-estimator-id-19\" type=\"checkbox\" ><label for=\"sk-estimator-id-19\" class=\"sk-toggleable__label sk-toggleable__label-arrow\">Lasso</label><div class=\"sk-toggleable__content\"><pre>Lasso(alpha=0.01)</pre></div></div></div></div></div></div></div>"
      ],
      "text/plain": [
       "Pipeline(steps=[('standardscaler', StandardScaler()),\n",
       "                ('polynomial', PolynomialFeatures(include_bias=False)),\n",
       "                ('model', Lasso(alpha=0.01))])"
      ]
     },
     "execution_count": 80,
     "metadata": {},
     "output_type": "execute_result"
    }
   ],
   "source": [
    "Input = [('standardscaler', StandardScaler()), ('polynomial', PolynomialFeatures(degree=2, include_bias=False)), ('model', Lasso(alpha=0.01))]\n",
    "pipe_lasso = Pipeline(Input)\n",
    "pipe_lasso.fit(X_train, y_train)"
   ]
  },
  {
   "cell_type": "code",
   "execution_count": 85,
   "id": "e9c136a8-7637-40cf-8ad6-f39b388a0907",
   "metadata": {},
   "outputs": [
    {
     "data": {
      "text/plain": [
       "array([ 779.0341213 ,  687.35124223,  767.3535066 , ...,  607.1397905 ,\n",
       "        826.15700686, 1147.59633638])"
      ]
     },
     "execution_count": 85,
     "metadata": {},
     "output_type": "execute_result"
    }
   ],
   "source": [
    "y_predict_lasso = pipe_lasso.predict(X_test)\n",
    "y_predict_lasso"
   ]
  },
  {
   "cell_type": "code",
   "execution_count": 86,
   "id": "9abd34a7-28d2-409f-a9cd-cbf43831a66e",
   "metadata": {
    "scrolled": true
   },
   "outputs": [
    {
     "name": "stdout",
     "output_type": "stream",
     "text": [
      "MAE:  571.4475053207893 MSE:  27036699.65738979 RMSE:  5199.682649680632 MAPE:  1.2547139886270002 R2:  -1.657229322466701\n",
      "myMAE:  571.4475053207924 myMSE:  27036699.65738979 myRMSE:  5199.682649680632 myMAPE:  1.5743071932562422 myR2:  -1.6572293224667116\n"
     ]
    }
   ],
   "source": [
    "errors_lasso_plr = Errors(y_test, y_predict_lasso)\n",
    "MyErrors(y_test, y_predict_lasso)"
   ]
  },
  {
   "cell_type": "code",
   "execution_count": 87,
   "id": "883171c7-88c5-4a38-8c9a-ab49ec78e48c",
   "metadata": {},
   "outputs": [
    {
     "data": {
      "image/png": "[encoded data removed]",
      "text/plain": [
       "<Figure size 1200x1000 with 1 Axes>"
      ]
     },
     "metadata": {},
     "output_type": "display_data"
    }
   ],
   "source": [
    "plt.figure(figsize=(12,10))\n",
    "ax2 = sns.distplot(y_test, hist=False, color='Red', label='Actual values')\n",
    "sns.distplot(y_predict_lasso, hist=False, color='Blue', label='Predicted values')\n",
    "plt.show()"
   ]
  },
  {
   "cell_type": "markdown",
   "id": "91226c59-688e-49d9-97e9-c62fddfaa633",
   "metadata": {},
   "source": [
    "Показатели также практически не изменились"
   ]
  },
  {
   "cell_type": "markdown",
   "id": "31e6c7d5-7c5f-4024-aee2-0a61524e9cfc",
   "metadata": {},
   "source": [
    "## Elactic Net"
   ]
  },
  {
   "cell_type": "code",
   "execution_count": 88,
   "id": "6ae58334-1b2a-46b1-b07b-29708bf2d3f3",
   "metadata": {},
   "outputs": [
    {
     "data": {
      "text/html": [
       "<style>#sk-container-id-7 {color: black;}#sk-container-id-7 pre{padding: 0;}#sk-container-id-7 div.sk-toggleable {background-color: white;}#sk-container-id-7 label.sk-toggleable__label {cursor: pointer;display: block;width: 100%;margin-bottom: 0;padding: 0.3em;box-sizing: border-box;text-align: center;}#sk-container-id-7 label.sk-toggleable__label-arrow:before {content: \"▸\";float: left;margin-right: 0.25em;color: #696969;}#sk-container-id-7 label.sk-toggleable__label-arrow:hover:before {color: black;}#sk-container-id-7 div.sk-estimator:hover label.sk-toggleable__label-arrow:before {color: black;}#sk-container-id-7 div.sk-toggleable__content {max-height: 0;max-width: 0;overflow: hidden;text-align: left;background-color: #f0f8ff;}#sk-container-id-7 div.sk-toggleable__content pre {margin: 0.2em;color: black;border-radius: 0.25em;background-color: #f0f8ff;}#sk-container-id-7 input.sk-toggleable__control:checked~div.sk-toggleable__content {max-height: 200px;max-width: 100%;overflow: auto;}#sk-container-id-7 input.sk-toggleable__control:checked~label.sk-toggleable__label-arrow:before {content: \"▾\";}#sk-container-id-7 div.sk-estimator input.sk-toggleable__control:checked~label.sk-toggleable__label {background-color: #d4ebff;}#sk-container-id-7 div.sk-label input.sk-toggleable__control:checked~label.sk-toggleable__label {background-color: #d4ebff;}#sk-container-id-7 input.sk-hidden--visually {border: 0;clip: rect(1px 1px 1px 1px);clip: rect(1px, 1px, 1px, 1px);height: 1px;margin: -1px;overflow: hidden;padding: 0;position: absolute;width: 1px;}#sk-container-id-7 div.sk-estimator {font-family: monospace;background-color: #f0f8ff;border: 1px dotted black;border-radius: 0.25em;box-sizing: border-box;margin-bottom: 0.5em;}#sk-container-id-7 div.sk-estimator:hover {background-color: #d4ebff;}#sk-container-id-7 div.sk-parallel-item::after {content: \"\";width: 100%;border-bottom: 1px solid gray;flex-grow: 1;}#sk-container-id-7 div.sk-label:hover label.sk-toggleable__label {background-color: #d4ebff;}#sk-container-id-7 div.sk-serial::before {content: \"\";position: absolute;border-left: 1px solid gray;box-sizing: border-box;top: 0;bottom: 0;left: 50%;z-index: 0;}#sk-container-id-7 div.sk-serial {display: flex;flex-direction: column;align-items: center;background-color: white;padding-right: 0.2em;padding-left: 0.2em;position: relative;}#sk-container-id-7 div.sk-item {position: relative;z-index: 1;}#sk-container-id-7 div.sk-parallel {display: flex;align-items: stretch;justify-content: center;background-color: white;position: relative;}#sk-container-id-7 div.sk-item::before, #sk-container-id-7 div.sk-parallel-item::before {content: \"\";position: absolute;border-left: 1px solid gray;box-sizing: border-box;top: 0;bottom: 0;left: 50%;z-index: -1;}#sk-container-id-7 div.sk-parallel-item {display: flex;flex-direction: column;z-index: 1;position: relative;background-color: white;}#sk-container-id-7 div.sk-parallel-item:first-child::after {align-self: flex-end;width: 50%;}#sk-container-id-7 div.sk-parallel-item:last-child::after {align-self: flex-start;width: 50%;}#sk-container-id-7 div.sk-parallel-item:only-child::after {width: 0;}#sk-container-id-7 div.sk-dashed-wrapped {border: 1px dashed gray;margin: 0 0.4em 0.5em 0.4em;box-sizing: border-box;padding-bottom: 0.4em;background-color: white;}#sk-container-id-7 div.sk-label label {font-family: monospace;font-weight: bold;display: inline-block;line-height: 1.2em;}#sk-container-id-7 div.sk-label-container {text-align: center;}#sk-container-id-7 div.sk-container {/* jupyter's `normalize.less` sets `[hidden] { display: none; }` but bootstrap.min.css set `[hidden] { display: none !important; }` so we also need the `!important` here to be able to override the default hidden behavior on the sphinx rendered scikit-learn.org. See: https://github.com/scikit-learn/scikit-learn/issues/21755 */display: inline-block !important;position: relative;}#sk-container-id-7 div.sk-text-repr-fallback {display: none;}</style><div id=\"sk-container-id-7\" class=\"sk-top-container\"><div class=\"sk-text-repr-fallback\"><pre>Pipeline(steps=[(&#x27;polynomial&#x27;, PolynomialFeatures(include_bias=False)),\n",
       "                (&#x27;model&#x27;, ElasticNet(alpha=0.1, l1_ratio=0.1))])</pre><b>In a Jupyter environment, please rerun this cell to show the HTML representation or trust the notebook. <br />On GitHub, the HTML representation is unable to render, please try loading this page with nbviewer.org.</b></div><div class=\"sk-container\" hidden><div class=\"sk-item sk-dashed-wrapped\"><div class=\"sk-label-container\"><div class=\"sk-label sk-toggleable\"><input class=\"sk-toggleable__control sk-hidden--visually\" id=\"sk-estimator-id-20\" type=\"checkbox\" ><label for=\"sk-estimator-id-20\" class=\"sk-toggleable__label sk-toggleable__label-arrow\">Pipeline</label><div class=\"sk-toggleable__content\"><pre>Pipeline(steps=[(&#x27;polynomial&#x27;, PolynomialFeatures(include_bias=False)),\n",
       "                (&#x27;model&#x27;, ElasticNet(alpha=0.1, l1_ratio=0.1))])</pre></div></div></div><div class=\"sk-serial\"><div class=\"sk-item\"><div class=\"sk-estimator sk-toggleable\"><input class=\"sk-toggleable__control sk-hidden--visually\" id=\"sk-estimator-id-21\" type=\"checkbox\" ><label for=\"sk-estimator-id-21\" class=\"sk-toggleable__label sk-toggleable__label-arrow\">PolynomialFeatures</label><div class=\"sk-toggleable__content\"><pre>PolynomialFeatures(include_bias=False)</pre></div></div></div><div class=\"sk-item\"><div class=\"sk-estimator sk-toggleable\"><input class=\"sk-toggleable__control sk-hidden--visually\" id=\"sk-estimator-id-22\" type=\"checkbox\" ><label for=\"sk-estimator-id-22\" class=\"sk-toggleable__label sk-toggleable__label-arrow\">ElasticNet</label><div class=\"sk-toggleable__content\"><pre>ElasticNet(alpha=0.1, l1_ratio=0.1)</pre></div></div></div></div></div></div></div>"
      ],
      "text/plain": [
       "Pipeline(steps=[('polynomial', PolynomialFeatures(include_bias=False)),\n",
       "                ('model', ElasticNet(alpha=0.1, l1_ratio=0.1))])"
      ]
     },
     "execution_count": 88,
     "metadata": {},
     "output_type": "execute_result"
    }
   ],
   "source": [
    "Input = [('polynomial', PolynomialFeatures(degree=2, include_bias=False)), ('model', ElasticNet(alpha=0.1, l1_ratio=0.1))]\n",
    "pipe_elastic = Pipeline(Input)\n",
    "pipe_elastic.fit(X_train, y_train)"
   ]
  },
  {
   "cell_type": "code",
   "execution_count": 89,
   "id": "2a61a841-bf44-4790-b9a3-3fae580ba600",
   "metadata": {},
   "outputs": [
    {
     "data": {
      "text/plain": [
       "array([ 787.02557961,  713.58877775,  797.98717546, ...,  649.73104071,\n",
       "        851.01268033, 1147.77476664])"
      ]
     },
     "execution_count": 89,
     "metadata": {},
     "output_type": "execute_result"
    }
   ],
   "source": [
    "y_predict_elastic = pipe_elastic.predict(X_test)\n",
    "y_predict_elastic"
   ]
  },
  {
   "cell_type": "code",
   "execution_count": 90,
   "id": "0f3902a4-2ad7-416e-8a8f-4ae28b587cab",
   "metadata": {},
   "outputs": [
    {
     "name": "stdout",
     "output_type": "stream",
     "text": [
      "MAE:  573.29751043645 MSE:  25546204.712133676 RMSE:  5054.325346881983 MAPE:  1.2486374831452116 R2:  -1.5107400348054227\n",
      "myMAE:  573.2975104364331 myMSE:  25546204.71213348 myRMSE:  5054.325346881963 myMAPE:  1.5590955643151898 myR2:  -1.5107400348054134\n"
     ]
    }
   ],
   "source": [
    "errors_elastic_plr = Errors(y_test, y_predict_elastic)\n",
    "MyErrors(y_test, y_predict_elastic)"
   ]
  },
  {
   "cell_type": "code",
   "execution_count": 91,
   "id": "041f8f53-0778-48cf-9c3f-6a9cbb4387ab",
   "metadata": {},
   "outputs": [
    {
     "data": {
      "image/png": "[encoded data removed]",
      "text/plain": [
       "<Figure size 1200x1000 with 1 Axes>"
      ]
     },
     "metadata": {},
     "output_type": "display_data"
    }
   ],
   "source": [
    "plt.figure(figsize=(12,10))\n",
    "ax2 = sns.distplot(y_test, hist=False, color='Red', label='Actual values')\n",
    "sns.distplot(y_predict_elastic, hist=False, color='Blue', label='Predicted values')\n",
    "plt.show()"
   ]
  },
  {
   "cell_type": "markdown",
   "id": "ad04b518-63f5-474e-94db-4c546be3712a",
   "metadata": {},
   "source": [
    "Видими небольшое изменение показателей"
   ]
  },
  {
   "cell_type": "markdown",
   "id": "12e59112-9070-461e-8228-29cf5da5c0bb",
   "metadata": {},
   "source": [
    "Наилучшей моделью можно считать Lasso"
   ]
  },
  {
   "cell_type": "markdown",
   "id": "262bcb10-ad34-43b0-9a3d-c733e80b218e",
   "metadata": {},
   "source": [
    "## Выбор лучшей модели"
   ]
  },
  {
   "cell_type": "code",
   "execution_count": 92,
   "id": "c1ab5f94-173f-4ead-abf1-840ce0bad924",
   "metadata": {},
   "outputs": [
    {
     "name": "stdout",
     "output_type": "stream",
     "text": [
      "MAE:  573.29751043645 MSE:  25546204.712133676 RMSE:  5054.325346881983 MAPE:  1.2486374831452116 R2:  -1.5107400348054227\n",
      "MAE:  571.4475053207893 MSE:  27036699.65738979 RMSE:  5199.682649680632 MAPE:  1.2547139886270002 R2:  -1.657229322466701\n",
      "MAE:  573.29751043645 MSE:  25546204.712133676 RMSE:  5054.325346881983 MAPE:  1.2486374831452116 R2:  -1.5107400348054227\n"
     ]
    }
   ],
   "source": [
    "Errors(y_test, y_predict_elastic)\n",
    "Errors(y_test, y_predict_lasso)\n",
    "Errors(y_test, y_predict_elastic)"
   ]
  },
  {
   "cell_type": "markdown",
   "id": "99cbfc9d-9894-4447-a948-0f7538021724",
   "metadata": {},
   "source": [
    "## Учитывая полученные результаты, можно сказать, что наилучшей моделью среди рассмотренных можно считать множественную линейную регрессию."
   ]
  },
  {
   "cell_type": "code",
   "execution_count": null,
   "id": "c9c0ed41-fd5c-432b-b868-e8c071c62bdb",
   "metadata": {},
   "outputs": [],
   "source": []
  },
  {
   "cell_type": "code",
   "execution_count": null,
   "id": "4658271d-fa3f-4eaf-99fa-b0f219dc96b2",
   "metadata": {},
   "outputs": [],
   "source": []
  }
 ],
 "metadata": {
  "kernelspec": {
   "display_name": "Python 3 (ipykernel)",
   "language": "python",
   "name": "python3"
  },
  "language_info": {
   "codemirror_mode": {
    "name": "ipython",
    "version": 3
   },
   "file_extension": ".py",
   "mimetype": "text/x-python",
   "name": "python",
   "nbconvert_exporter": "python",
   "pygments_lexer": "ipython3",
   "version": "3.10.11"
  }
 },
 "nbformat": 4,
 "nbformat_minor": 5
}
